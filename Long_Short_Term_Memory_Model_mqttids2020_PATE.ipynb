{
  "cells": [
    {
      "cell_type": "markdown",
      "id": "c5b32fb9",
      "metadata": {
        "id": "c5b32fb9"
      },
      "source": [
        "## Importing the required Packages and libraries."
      ]
    },
    {
      "cell_type": "code",
      "execution_count": null,
      "id": "XVg5udCcJUUq",
      "metadata": {
        "id": "XVg5udCcJUUq"
      },
      "outputs": [],
      "source": []
    },
    {
      "cell_type": "code",
      "source": [],
      "metadata": {
        "id": "kTl-5Uac0ww9"
      },
      "id": "kTl-5Uac0ww9",
      "execution_count": null,
      "outputs": []
    },
    {
      "cell_type": "code",
      "source": [
        "#!pip install --upgrade tensorflow\n",
        "#!pip install --upgrade tensorflow-estimator\n",
        "\n"
      ],
      "metadata": {
        "id": "Txx97sNWy9RS"
      },
      "id": "Txx97sNWy9RS",
      "execution_count": null,
      "outputs": []
    },
    {
      "cell_type": "code",
      "source": [],
      "metadata": {
        "id": "kAhwVx6K0zjn"
      },
      "id": "kAhwVx6K0zjn",
      "execution_count": null,
      "outputs": []
    },
    {
      "cell_type": "code",
      "source": [
        "#!pip uninstall tensorflow tensorflow-estimator\n",
        "#!pip install tensorflow\n"
      ],
      "metadata": {
        "id": "YhcVQ0G91Hxz"
      },
      "id": "YhcVQ0G91Hxz",
      "execution_count": null,
      "outputs": []
    },
    {
      "cell_type": "code",
      "source": [
        "!pip install tensorflow==2.17.1\n",
        "!pip install tensorflow-estimator==2.4.0\n"
      ],
      "metadata": {
        "colab": {
          "base_uri": "https://localhost:8080/"
        },
        "id": "t9ztAEBE2dyZ",
        "outputId": "d9cefd35-3059-4e35-bb1a-8bf928b7543d"
      },
      "id": "t9ztAEBE2dyZ",
      "execution_count": null,
      "outputs": [
        {
          "output_type": "stream",
          "name": "stdout",
          "text": [
            "\u001b[31mERROR: Could not find a version that satisfies the requirement tensorflow==2.17.1 (from versions: 2.8.0rc0, 2.8.0rc1, 2.8.0, 2.8.1, 2.8.2, 2.8.3, 2.8.4, 2.9.0rc0, 2.9.0rc1, 2.9.0rc2, 2.9.0, 2.9.1, 2.9.2, 2.9.3, 2.10.0rc0, 2.10.0rc1, 2.10.0rc2, 2.10.0rc3, 2.10.0, 2.10.1, 2.11.0rc0, 2.11.0rc1, 2.11.0rc2, 2.11.0, 2.11.1, 2.12.0rc0, 2.12.0rc1, 2.12.0, 2.12.1, 2.13.0rc0, 2.13.0rc1, 2.13.0rc2, 2.13.0, 2.13.1, 2.14.0rc0, 2.14.0rc1, 2.14.0, 2.14.1, 2.15.0rc0, 2.15.0rc1, 2.15.0, 2.15.0.post1, 2.15.1, 2.16.0rc0, 2.16.1, 2.16.2, 2.17.0rc0, 2.17.0rc1, 2.17.0)\u001b[0m\u001b[31m\n",
            "\u001b[0m\u001b[31mERROR: No matching distribution found for tensorflow==2.17.1\u001b[0m\u001b[31m\n",
            "\u001b[0mCollecting tensorflow-estimator==2.4.0\n",
            "  Using cached tensorflow_estimator-2.4.0-py2.py3-none-any.whl.metadata (1.2 kB)\n",
            "Using cached tensorflow_estimator-2.4.0-py2.py3-none-any.whl (462 kB)\n",
            "Installing collected packages: tensorflow-estimator\n",
            "  Attempting uninstall: tensorflow-estimator\n",
            "    Found existing installation: tensorflow-estimator 2.14.0\n",
            "    Uninstalling tensorflow-estimator-2.14.0:\n",
            "      Successfully uninstalled tensorflow-estimator-2.14.0\n",
            "\u001b[31mERROR: pip's dependency resolver does not currently take into account all the packages that are installed. This behaviour is the source of the following dependency conflicts.\n",
            "tensorflow 2.14.1 requires tensorflow-estimator<2.15,>=2.14.0, but you have tensorflow-estimator 2.4.0 which is incompatible.\n",
            "tf-keras 2.17.0 requires tensorflow<2.18,>=2.17, but you have tensorflow 2.14.1 which is incompatible.\u001b[0m\u001b[31m\n",
            "\u001b[0mSuccessfully installed tensorflow-estimator-2.4.0\n"
          ]
        }
      ]
    },
    {
      "cell_type": "code",
      "source": [
        "!pip install tensorflow-privacy"
      ],
      "metadata": {
        "colab": {
          "base_uri": "https://localhost:8080/"
        },
        "id": "tfvN_tpw3_Hi",
        "outputId": "68818226-d7af-40d7-a6bd-63ffbc236aa8"
      },
      "id": "tfvN_tpw3_Hi",
      "execution_count": null,
      "outputs": [
        {
          "output_type": "stream",
          "name": "stdout",
          "text": [
            "Requirement already satisfied: tensorflow-privacy in /usr/local/lib/python3.10/dist-packages (0.9.0)\n",
            "Requirement already satisfied: absl-py==1.*,>=1.0 in /usr/local/lib/python3.10/dist-packages (from tensorflow-privacy) (1.4.0)\n",
            "Requirement already satisfied: dm-tree==0.1.8 in /usr/local/lib/python3.10/dist-packages (from tensorflow-privacy) (0.1.8)\n",
            "Requirement already satisfied: dp-accounting==0.4.3 in /usr/local/lib/python3.10/dist-packages (from tensorflow-privacy) (0.4.3)\n",
            "Requirement already satisfied: numpy~=1.21 in /usr/local/lib/python3.10/dist-packages (from tensorflow-privacy) (1.26.4)\n",
            "Requirement already satisfied: packaging~=22.0 in /usr/local/lib/python3.10/dist-packages (from tensorflow-privacy) (22.0)\n",
            "Requirement already satisfied: scikit-learn==1.*,>=1.0 in /usr/local/lib/python3.10/dist-packages (from tensorflow-privacy) (1.5.2)\n",
            "Requirement already satisfied: scipy~=1.9 in /usr/local/lib/python3.10/dist-packages (from tensorflow-privacy) (1.13.1)\n",
            "Requirement already satisfied: tensorflow-estimator~=2.4 in /usr/local/lib/python3.10/dist-packages (from tensorflow-privacy) (2.4.0)\n",
            "Requirement already satisfied: tensorflow-probability~=0.22.0 in /usr/local/lib/python3.10/dist-packages (from tensorflow-privacy) (0.22.1)\n",
            "Requirement already satisfied: tensorflow~=2.4 in /usr/local/lib/python3.10/dist-packages (from tensorflow-privacy) (2.14.1)\n",
            "Requirement already satisfied: attrs>=22 in /usr/local/lib/python3.10/dist-packages (from dp-accounting==0.4.3->tensorflow-privacy) (24.2.0)\n",
            "Requirement already satisfied: mpmath~=1.2 in /usr/local/lib/python3.10/dist-packages (from dp-accounting==0.4.3->tensorflow-privacy) (1.3.0)\n",
            "Requirement already satisfied: joblib>=1.2.0 in /usr/local/lib/python3.10/dist-packages (from scikit-learn==1.*,>=1.0->tensorflow-privacy) (1.4.2)\n",
            "Requirement already satisfied: threadpoolctl>=3.1.0 in /usr/local/lib/python3.10/dist-packages (from scikit-learn==1.*,>=1.0->tensorflow-privacy) (3.5.0)\n",
            "Requirement already satisfied: astunparse>=1.6.0 in /usr/local/lib/python3.10/dist-packages (from tensorflow~=2.4->tensorflow-privacy) (1.6.3)\n",
            "Requirement already satisfied: flatbuffers>=23.5.26 in /usr/local/lib/python3.10/dist-packages (from tensorflow~=2.4->tensorflow-privacy) (24.3.25)\n",
            "Requirement already satisfied: gast!=0.5.0,!=0.5.1,!=0.5.2,>=0.2.1 in /usr/local/lib/python3.10/dist-packages (from tensorflow~=2.4->tensorflow-privacy) (0.4.0)\n",
            "Requirement already satisfied: google-pasta>=0.1.1 in /usr/local/lib/python3.10/dist-packages (from tensorflow~=2.4->tensorflow-privacy) (0.2.0)\n",
            "Requirement already satisfied: h5py>=2.9.0 in /usr/local/lib/python3.10/dist-packages (from tensorflow~=2.4->tensorflow-privacy) (3.11.0)\n",
            "Requirement already satisfied: libclang>=13.0.0 in /usr/local/lib/python3.10/dist-packages (from tensorflow~=2.4->tensorflow-privacy) (18.1.1)\n",
            "Requirement already satisfied: ml-dtypes==0.2.0 in /usr/local/lib/python3.10/dist-packages (from tensorflow~=2.4->tensorflow-privacy) (0.2.0)\n",
            "Requirement already satisfied: opt-einsum>=2.3.2 in /usr/local/lib/python3.10/dist-packages (from tensorflow~=2.4->tensorflow-privacy) (3.3.0)\n",
            "Requirement already satisfied: protobuf!=4.21.0,!=4.21.1,!=4.21.2,!=4.21.3,!=4.21.4,!=4.21.5,<5.0.0dev,>=3.20.3 in /usr/local/lib/python3.10/dist-packages (from tensorflow~=2.4->tensorflow-privacy) (4.25.5)\n",
            "Requirement already satisfied: setuptools in /usr/local/lib/python3.10/dist-packages (from tensorflow~=2.4->tensorflow-privacy) (71.0.4)\n",
            "Requirement already satisfied: six>=1.12.0 in /usr/local/lib/python3.10/dist-packages (from tensorflow~=2.4->tensorflow-privacy) (1.16.0)\n",
            "Requirement already satisfied: termcolor>=1.1.0 in /usr/local/lib/python3.10/dist-packages (from tensorflow~=2.4->tensorflow-privacy) (2.4.0)\n",
            "Requirement already satisfied: typing-extensions>=3.6.6 in /usr/local/lib/python3.10/dist-packages (from tensorflow~=2.4->tensorflow-privacy) (4.12.2)\n",
            "Requirement already satisfied: wrapt<1.15,>=1.11.0 in /usr/local/lib/python3.10/dist-packages (from tensorflow~=2.4->tensorflow-privacy) (1.14.1)\n",
            "Requirement already satisfied: tensorflow-io-gcs-filesystem>=0.23.1 in /usr/local/lib/python3.10/dist-packages (from tensorflow~=2.4->tensorflow-privacy) (0.37.1)\n",
            "Requirement already satisfied: grpcio<2.0,>=1.24.3 in /usr/local/lib/python3.10/dist-packages (from tensorflow~=2.4->tensorflow-privacy) (1.64.1)\n",
            "Requirement already satisfied: tensorboard<2.15,>=2.14 in /usr/local/lib/python3.10/dist-packages (from tensorflow~=2.4->tensorflow-privacy) (2.14.1)\n",
            "Collecting tensorflow-estimator~=2.4 (from tensorflow-privacy)\n",
            "  Using cached tensorflow_estimator-2.14.0-py2.py3-none-any.whl.metadata (1.3 kB)\n",
            "Requirement already satisfied: keras<2.15,>=2.14.0 in /usr/local/lib/python3.10/dist-packages (from tensorflow~=2.4->tensorflow-privacy) (2.14.0)\n",
            "Requirement already satisfied: decorator in /usr/local/lib/python3.10/dist-packages (from tensorflow-probability~=0.22.0->tensorflow-privacy) (4.4.2)\n",
            "Requirement already satisfied: cloudpickle>=1.3 in /usr/local/lib/python3.10/dist-packages (from tensorflow-probability~=0.22.0->tensorflow-privacy) (2.2.1)\n",
            "Requirement already satisfied: wheel<1.0,>=0.23.0 in /usr/local/lib/python3.10/dist-packages (from astunparse>=1.6.0->tensorflow~=2.4->tensorflow-privacy) (0.44.0)\n",
            "Requirement already satisfied: google-auth<3,>=1.6.3 in /usr/local/lib/python3.10/dist-packages (from tensorboard<2.15,>=2.14->tensorflow~=2.4->tensorflow-privacy) (2.27.0)\n",
            "Requirement already satisfied: google-auth-oauthlib<1.1,>=0.5 in /usr/local/lib/python3.10/dist-packages (from tensorboard<2.15,>=2.14->tensorflow~=2.4->tensorflow-privacy) (1.0.0)\n",
            "Requirement already satisfied: markdown>=2.6.8 in /usr/local/lib/python3.10/dist-packages (from tensorboard<2.15,>=2.14->tensorflow~=2.4->tensorflow-privacy) (3.7)\n",
            "Requirement already satisfied: requests<3,>=2.21.0 in /usr/local/lib/python3.10/dist-packages (from tensorboard<2.15,>=2.14->tensorflow~=2.4->tensorflow-privacy) (2.32.3)\n",
            "Requirement already satisfied: tensorboard-data-server<0.8.0,>=0.7.0 in /usr/local/lib/python3.10/dist-packages (from tensorboard<2.15,>=2.14->tensorflow~=2.4->tensorflow-privacy) (0.7.2)\n",
            "Requirement already satisfied: werkzeug>=1.0.1 in /usr/local/lib/python3.10/dist-packages (from tensorboard<2.15,>=2.14->tensorflow~=2.4->tensorflow-privacy) (3.0.4)\n",
            "Requirement already satisfied: cachetools<6.0,>=2.0.0 in /usr/local/lib/python3.10/dist-packages (from google-auth<3,>=1.6.3->tensorboard<2.15,>=2.14->tensorflow~=2.4->tensorflow-privacy) (5.5.0)\n",
            "Requirement already satisfied: pyasn1-modules>=0.2.1 in /usr/local/lib/python3.10/dist-packages (from google-auth<3,>=1.6.3->tensorboard<2.15,>=2.14->tensorflow~=2.4->tensorflow-privacy) (0.4.1)\n",
            "Requirement already satisfied: rsa<5,>=3.1.4 in /usr/local/lib/python3.10/dist-packages (from google-auth<3,>=1.6.3->tensorboard<2.15,>=2.14->tensorflow~=2.4->tensorflow-privacy) (4.9)\n",
            "Requirement already satisfied: requests-oauthlib>=0.7.0 in /usr/local/lib/python3.10/dist-packages (from google-auth-oauthlib<1.1,>=0.5->tensorboard<2.15,>=2.14->tensorflow~=2.4->tensorflow-privacy) (1.3.1)\n",
            "Requirement already satisfied: charset-normalizer<4,>=2 in /usr/local/lib/python3.10/dist-packages (from requests<3,>=2.21.0->tensorboard<2.15,>=2.14->tensorflow~=2.4->tensorflow-privacy) (3.3.2)\n",
            "Requirement already satisfied: idna<4,>=2.5 in /usr/local/lib/python3.10/dist-packages (from requests<3,>=2.21.0->tensorboard<2.15,>=2.14->tensorflow~=2.4->tensorflow-privacy) (3.10)\n",
            "Requirement already satisfied: urllib3<3,>=1.21.1 in /usr/local/lib/python3.10/dist-packages (from requests<3,>=2.21.0->tensorboard<2.15,>=2.14->tensorflow~=2.4->tensorflow-privacy) (2.2.3)\n",
            "Requirement already satisfied: certifi>=2017.4.17 in /usr/local/lib/python3.10/dist-packages (from requests<3,>=2.21.0->tensorboard<2.15,>=2.14->tensorflow~=2.4->tensorflow-privacy) (2024.8.30)\n",
            "Requirement already satisfied: MarkupSafe>=2.1.1 in /usr/local/lib/python3.10/dist-packages (from werkzeug>=1.0.1->tensorboard<2.15,>=2.14->tensorflow~=2.4->tensorflow-privacy) (2.1.5)\n",
            "Requirement already satisfied: pyasn1<0.7.0,>=0.4.6 in /usr/local/lib/python3.10/dist-packages (from pyasn1-modules>=0.2.1->google-auth<3,>=1.6.3->tensorboard<2.15,>=2.14->tensorflow~=2.4->tensorflow-privacy) (0.6.1)\n",
            "Requirement already satisfied: oauthlib>=3.0.0 in /usr/local/lib/python3.10/dist-packages (from requests-oauthlib>=0.7.0->google-auth-oauthlib<1.1,>=0.5->tensorboard<2.15,>=2.14->tensorflow~=2.4->tensorflow-privacy) (3.2.2)\n",
            "Using cached tensorflow_estimator-2.14.0-py2.py3-none-any.whl (440 kB)\n",
            "Installing collected packages: tensorflow-estimator\n",
            "  Attempting uninstall: tensorflow-estimator\n",
            "    Found existing installation: tensorflow-estimator 2.4.0\n",
            "    Uninstalling tensorflow-estimator-2.4.0:\n",
            "      Successfully uninstalled tensorflow-estimator-2.4.0\n",
            "\u001b[31mERROR: pip's dependency resolver does not currently take into account all the packages that are installed. This behaviour is the source of the following dependency conflicts.\n",
            "tf-keras 2.17.0 requires tensorflow<2.18,>=2.17, but you have tensorflow 2.14.1 which is incompatible.\u001b[0m\u001b[31m\n",
            "\u001b[0mSuccessfully installed tensorflow-estimator-2.14.0\n"
          ]
        }
      ]
    },
    {
      "cell_type": "code",
      "execution_count": null,
      "id": "587231f4",
      "metadata": {
        "id": "587231f4"
      },
      "outputs": [],
      "source": [
        "import os\n",
        "import time\n",
        "import numpy as np\n",
        "import pandas as pd\n",
        "\n",
        "import seaborn as sns\n",
        "import matplotlib.pyplot as plt\n",
        "\n",
        "from sklearn.utils import resample\n",
        "from sklearn.model_selection import train_test_split\n",
        "from sklearn.preprocessing import LabelEncoder, StandardScaler, MinMaxScaler\n",
        "from sklearn.metrics import (\n",
        "    recall_score,\n",
        "    f1_score,\n",
        "    precision_score,\n",
        "    accuracy_score,\n",
        "    confusion_matrix,\n",
        "    precision_recall_curve,\n",
        "    average_precision_score,\n",
        "     auc,\n",
        ")\n",
        "\n",
        "import tensorflow as tf\n",
        "import tensorflow.compat.v1 as tf1\n",
        "#import tensorflow as tf\n",
        "\n",
        "from tensorflow.keras.models import Sequential\n",
        "from tensorflow.keras.layers import LSTM, Dense, Conv2D, MaxPooling2D, Flatten, Dropout\n",
        "from tensorflow.keras.optimizers import Adam, SGD\n",
        "from tensorflow.keras.metrics import TruePositives, TrueNegatives, FalsePositives, FalseNegatives\n",
        "\n",
        "import tensorflow_privacy\n",
        "\n",
        "from tensorflow_privacy.privacy.analysis import compute_dp_sgd_privacy\n",
        "from sklearn.model_selection import StratifiedKFold\n",
        "from tensorflow.keras.layers import BatchNormalization\n",
        "\n",
        "\n",
        "\n",
        "\n",
        "\n",
        "\n",
        "#Filtering errors\n",
        "import warnings\n",
        "warnings.filterwarnings(\"ignore\", category=UserWarning)"
      ]
    },
    {
      "cell_type": "code",
      "execution_count": null,
      "id": "P5PWEQwRynrZ",
      "metadata": {
        "colab": {
          "base_uri": "https://localhost:8080/"
        },
        "id": "P5PWEQwRynrZ",
        "outputId": "23fa5e29-549e-44a3-88b6-29f23c818199"
      },
      "outputs": [
        {
          "output_type": "stream",
          "name": "stdout",
          "text": [
            "Drive already mounted at /content/gdrive/; to attempt to forcibly remount, call drive.mount(\"/content/gdrive/\", force_remount=True).\n"
          ]
        }
      ],
      "source": [
        "from google.colab import drive, files\n",
        "drive.mount('/content/gdrive/')"
      ]
    },
    {
      "cell_type": "code",
      "execution_count": null,
      "id": "29fd7a70",
      "metadata": {
        "colab": {
          "base_uri": "https://localhost:8080/",
          "height": 214
        },
        "id": "29fd7a70",
        "outputId": "08354f76-2af9-4b7f-d522-deeb96493892"
      },
      "outputs": [
        {
          "output_type": "display_data",
          "data": {
            "text/plain": [
              "                     timestamp  src_ip  dst_ip  protocol  ttl  ip_len  \\\n",
              "0  02/14/2020, 11:01:47:599181       1      18        12   26     118   \n",
              "1  02/14/2020, 10:53:58:393457       5      18        12   26     118   \n",
              "\n",
              "   ip_flag_df  ip_flag_mf  ip_flag_rb  src_port  ...  tcp_flag_ns  \\\n",
              "0           1           0           0     14816  ...            0   \n",
              "1           1           0           0     27432  ...            0   \n",
              "\n",
              "   tcp_flag_cwr  tcp_flag_ecn  tcp_flag_urg  tcp_flag_ack  tcp_flag_push  \\\n",
              "0             0             0             0             2              2   \n",
              "1             0             0             0             2              2   \n",
              "\n",
              "   tcp_flag_reset  tcp_flag_syn  tcp_flag_fin  is_attack  \n",
              "0               0             0             2          0  \n",
              "1               0             0             2          0  \n",
              "\n",
              "[2 rows x 22 columns]"
            ],
            "text/html": [
              "\n",
              "  <div id=\"df-6822ccf7-dc66-47e2-8ce8-4d38fc3b0b1f\" class=\"colab-df-container\">\n",
              "    <div>\n",
              "<style scoped>\n",
              "    .dataframe tbody tr th:only-of-type {\n",
              "        vertical-align: middle;\n",
              "    }\n",
              "\n",
              "    .dataframe tbody tr th {\n",
              "        vertical-align: top;\n",
              "    }\n",
              "\n",
              "    .dataframe thead th {\n",
              "        text-align: right;\n",
              "    }\n",
              "</style>\n",
              "<table border=\"1\" class=\"dataframe\">\n",
              "  <thead>\n",
              "    <tr style=\"text-align: right;\">\n",
              "      <th></th>\n",
              "      <th>timestamp</th>\n",
              "      <th>src_ip</th>\n",
              "      <th>dst_ip</th>\n",
              "      <th>protocol</th>\n",
              "      <th>ttl</th>\n",
              "      <th>ip_len</th>\n",
              "      <th>ip_flag_df</th>\n",
              "      <th>ip_flag_mf</th>\n",
              "      <th>ip_flag_rb</th>\n",
              "      <th>src_port</th>\n",
              "      <th>...</th>\n",
              "      <th>tcp_flag_ns</th>\n",
              "      <th>tcp_flag_cwr</th>\n",
              "      <th>tcp_flag_ecn</th>\n",
              "      <th>tcp_flag_urg</th>\n",
              "      <th>tcp_flag_ack</th>\n",
              "      <th>tcp_flag_push</th>\n",
              "      <th>tcp_flag_reset</th>\n",
              "      <th>tcp_flag_syn</th>\n",
              "      <th>tcp_flag_fin</th>\n",
              "      <th>is_attack</th>\n",
              "    </tr>\n",
              "  </thead>\n",
              "  <tbody>\n",
              "    <tr>\n",
              "      <th>0</th>\n",
              "      <td>02/14/2020, 11:01:47:599181</td>\n",
              "      <td>1</td>\n",
              "      <td>18</td>\n",
              "      <td>12</td>\n",
              "      <td>26</td>\n",
              "      <td>118</td>\n",
              "      <td>1</td>\n",
              "      <td>0</td>\n",
              "      <td>0</td>\n",
              "      <td>14816</td>\n",
              "      <td>...</td>\n",
              "      <td>0</td>\n",
              "      <td>0</td>\n",
              "      <td>0</td>\n",
              "      <td>0</td>\n",
              "      <td>2</td>\n",
              "      <td>2</td>\n",
              "      <td>0</td>\n",
              "      <td>0</td>\n",
              "      <td>2</td>\n",
              "      <td>0</td>\n",
              "    </tr>\n",
              "    <tr>\n",
              "      <th>1</th>\n",
              "      <td>02/14/2020, 10:53:58:393457</td>\n",
              "      <td>5</td>\n",
              "      <td>18</td>\n",
              "      <td>12</td>\n",
              "      <td>26</td>\n",
              "      <td>118</td>\n",
              "      <td>1</td>\n",
              "      <td>0</td>\n",
              "      <td>0</td>\n",
              "      <td>27432</td>\n",
              "      <td>...</td>\n",
              "      <td>0</td>\n",
              "      <td>0</td>\n",
              "      <td>0</td>\n",
              "      <td>0</td>\n",
              "      <td>2</td>\n",
              "      <td>2</td>\n",
              "      <td>0</td>\n",
              "      <td>0</td>\n",
              "      <td>2</td>\n",
              "      <td>0</td>\n",
              "    </tr>\n",
              "  </tbody>\n",
              "</table>\n",
              "<p>2 rows × 22 columns</p>\n",
              "</div>\n",
              "    <div class=\"colab-df-buttons\">\n",
              "\n",
              "  <div class=\"colab-df-container\">\n",
              "    <button class=\"colab-df-convert\" onclick=\"convertToInteractive('df-6822ccf7-dc66-47e2-8ce8-4d38fc3b0b1f')\"\n",
              "            title=\"Convert this dataframe to an interactive table.\"\n",
              "            style=\"display:none;\">\n",
              "\n",
              "  <svg xmlns=\"http://www.w3.org/2000/svg\" height=\"24px\" viewBox=\"0 -960 960 960\">\n",
              "    <path d=\"M120-120v-720h720v720H120Zm60-500h600v-160H180v160Zm220 220h160v-160H400v160Zm0 220h160v-160H400v160ZM180-400h160v-160H180v160Zm440 0h160v-160H620v160ZM180-180h160v-160H180v160Zm440 0h160v-160H620v160Z\"/>\n",
              "  </svg>\n",
              "    </button>\n",
              "\n",
              "  <style>\n",
              "    .colab-df-container {\n",
              "      display:flex;\n",
              "      gap: 12px;\n",
              "    }\n",
              "\n",
              "    .colab-df-convert {\n",
              "      background-color: #E8F0FE;\n",
              "      border: none;\n",
              "      border-radius: 50%;\n",
              "      cursor: pointer;\n",
              "      display: none;\n",
              "      fill: #1967D2;\n",
              "      height: 32px;\n",
              "      padding: 0 0 0 0;\n",
              "      width: 32px;\n",
              "    }\n",
              "\n",
              "    .colab-df-convert:hover {\n",
              "      background-color: #E2EBFA;\n",
              "      box-shadow: 0px 1px 2px rgba(60, 64, 67, 0.3), 0px 1px 3px 1px rgba(60, 64, 67, 0.15);\n",
              "      fill: #174EA6;\n",
              "    }\n",
              "\n",
              "    .colab-df-buttons div {\n",
              "      margin-bottom: 4px;\n",
              "    }\n",
              "\n",
              "    [theme=dark] .colab-df-convert {\n",
              "      background-color: #3B4455;\n",
              "      fill: #D2E3FC;\n",
              "    }\n",
              "\n",
              "    [theme=dark] .colab-df-convert:hover {\n",
              "      background-color: #434B5C;\n",
              "      box-shadow: 0px 1px 3px 1px rgba(0, 0, 0, 0.15);\n",
              "      filter: drop-shadow(0px 1px 2px rgba(0, 0, 0, 0.3));\n",
              "      fill: #FFFFFF;\n",
              "    }\n",
              "  </style>\n",
              "\n",
              "    <script>\n",
              "      const buttonEl =\n",
              "        document.querySelector('#df-6822ccf7-dc66-47e2-8ce8-4d38fc3b0b1f button.colab-df-convert');\n",
              "      buttonEl.style.display =\n",
              "        google.colab.kernel.accessAllowed ? 'block' : 'none';\n",
              "\n",
              "      async function convertToInteractive(key) {\n",
              "        const element = document.querySelector('#df-6822ccf7-dc66-47e2-8ce8-4d38fc3b0b1f');\n",
              "        const dataTable =\n",
              "          await google.colab.kernel.invokeFunction('convertToInteractive',\n",
              "                                                    [key], {});\n",
              "        if (!dataTable) return;\n",
              "\n",
              "        const docLinkHtml = 'Like what you see? Visit the ' +\n",
              "          '<a target=\"_blank\" href=https://colab.research.google.com/notebooks/data_table.ipynb>data table notebook</a>'\n",
              "          + ' to learn more about interactive tables.';\n",
              "        element.innerHTML = '';\n",
              "        dataTable['output_type'] = 'display_data';\n",
              "        await google.colab.output.renderOutput(dataTable, element);\n",
              "        const docLink = document.createElement('div');\n",
              "        docLink.innerHTML = docLinkHtml;\n",
              "        element.appendChild(docLink);\n",
              "      }\n",
              "    </script>\n",
              "  </div>\n",
              "\n",
              "\n",
              "<div id=\"df-14e43448-f4d1-451a-96c3-7546cf89ad4e\">\n",
              "  <button class=\"colab-df-quickchart\" onclick=\"quickchart('df-14e43448-f4d1-451a-96c3-7546cf89ad4e')\"\n",
              "            title=\"Suggest charts\"\n",
              "            style=\"display:none;\">\n",
              "\n",
              "<svg xmlns=\"http://www.w3.org/2000/svg\" height=\"24px\"viewBox=\"0 0 24 24\"\n",
              "     width=\"24px\">\n",
              "    <g>\n",
              "        <path d=\"M19 3H5c-1.1 0-2 .9-2 2v14c0 1.1.9 2 2 2h14c1.1 0 2-.9 2-2V5c0-1.1-.9-2-2-2zM9 17H7v-7h2v7zm4 0h-2V7h2v10zm4 0h-2v-4h2v4z\"/>\n",
              "    </g>\n",
              "</svg>\n",
              "  </button>\n",
              "\n",
              "<style>\n",
              "  .colab-df-quickchart {\n",
              "      --bg-color: #E8F0FE;\n",
              "      --fill-color: #1967D2;\n",
              "      --hover-bg-color: #E2EBFA;\n",
              "      --hover-fill-color: #174EA6;\n",
              "      --disabled-fill-color: #AAA;\n",
              "      --disabled-bg-color: #DDD;\n",
              "  }\n",
              "\n",
              "  [theme=dark] .colab-df-quickchart {\n",
              "      --bg-color: #3B4455;\n",
              "      --fill-color: #D2E3FC;\n",
              "      --hover-bg-color: #434B5C;\n",
              "      --hover-fill-color: #FFFFFF;\n",
              "      --disabled-bg-color: #3B4455;\n",
              "      --disabled-fill-color: #666;\n",
              "  }\n",
              "\n",
              "  .colab-df-quickchart {\n",
              "    background-color: var(--bg-color);\n",
              "    border: none;\n",
              "    border-radius: 50%;\n",
              "    cursor: pointer;\n",
              "    display: none;\n",
              "    fill: var(--fill-color);\n",
              "    height: 32px;\n",
              "    padding: 0;\n",
              "    width: 32px;\n",
              "  }\n",
              "\n",
              "  .colab-df-quickchart:hover {\n",
              "    background-color: var(--hover-bg-color);\n",
              "    box-shadow: 0 1px 2px rgba(60, 64, 67, 0.3), 0 1px 3px 1px rgba(60, 64, 67, 0.15);\n",
              "    fill: var(--button-hover-fill-color);\n",
              "  }\n",
              "\n",
              "  .colab-df-quickchart-complete:disabled,\n",
              "  .colab-df-quickchart-complete:disabled:hover {\n",
              "    background-color: var(--disabled-bg-color);\n",
              "    fill: var(--disabled-fill-color);\n",
              "    box-shadow: none;\n",
              "  }\n",
              "\n",
              "  .colab-df-spinner {\n",
              "    border: 2px solid var(--fill-color);\n",
              "    border-color: transparent;\n",
              "    border-bottom-color: var(--fill-color);\n",
              "    animation:\n",
              "      spin 1s steps(1) infinite;\n",
              "  }\n",
              "\n",
              "  @keyframes spin {\n",
              "    0% {\n",
              "      border-color: transparent;\n",
              "      border-bottom-color: var(--fill-color);\n",
              "      border-left-color: var(--fill-color);\n",
              "    }\n",
              "    20% {\n",
              "      border-color: transparent;\n",
              "      border-left-color: var(--fill-color);\n",
              "      border-top-color: var(--fill-color);\n",
              "    }\n",
              "    30% {\n",
              "      border-color: transparent;\n",
              "      border-left-color: var(--fill-color);\n",
              "      border-top-color: var(--fill-color);\n",
              "      border-right-color: var(--fill-color);\n",
              "    }\n",
              "    40% {\n",
              "      border-color: transparent;\n",
              "      border-right-color: var(--fill-color);\n",
              "      border-top-color: var(--fill-color);\n",
              "    }\n",
              "    60% {\n",
              "      border-color: transparent;\n",
              "      border-right-color: var(--fill-color);\n",
              "    }\n",
              "    80% {\n",
              "      border-color: transparent;\n",
              "      border-right-color: var(--fill-color);\n",
              "      border-bottom-color: var(--fill-color);\n",
              "    }\n",
              "    90% {\n",
              "      border-color: transparent;\n",
              "      border-bottom-color: var(--fill-color);\n",
              "    }\n",
              "  }\n",
              "</style>\n",
              "\n",
              "  <script>\n",
              "    async function quickchart(key) {\n",
              "      const quickchartButtonEl =\n",
              "        document.querySelector('#' + key + ' button');\n",
              "      quickchartButtonEl.disabled = true;  // To prevent multiple clicks.\n",
              "      quickchartButtonEl.classList.add('colab-df-spinner');\n",
              "      try {\n",
              "        const charts = await google.colab.kernel.invokeFunction(\n",
              "            'suggestCharts', [key], {});\n",
              "      } catch (error) {\n",
              "        console.error('Error during call to suggestCharts:', error);\n",
              "      }\n",
              "      quickchartButtonEl.classList.remove('colab-df-spinner');\n",
              "      quickchartButtonEl.classList.add('colab-df-quickchart-complete');\n",
              "    }\n",
              "    (() => {\n",
              "      let quickchartButtonEl =\n",
              "        document.querySelector('#df-14e43448-f4d1-451a-96c3-7546cf89ad4e button');\n",
              "      quickchartButtonEl.style.display =\n",
              "        google.colab.kernel.accessAllowed ? 'block' : 'none';\n",
              "    })();\n",
              "  </script>\n",
              "</div>\n",
              "\n",
              "    </div>\n",
              "  </div>\n"
            ],
            "application/vnd.google.colaboratory.intrinsic+json": {
              "type": "dataframe"
            }
          },
          "metadata": {}
        },
        {
          "output_type": "display_data",
          "data": {
            "text/plain": [
              "(2059162, 22)"
            ]
          },
          "metadata": {}
        }
      ],
      "source": [
        "data  = pd.read_csv(\"/content/gdrive/My Drive /data.csv\",low_memory=False)\n",
        "display(data.head(2), data.shape)"
      ]
    },
    {
      "cell_type": "code",
      "execution_count": null,
      "id": "cb43c27f",
      "metadata": {
        "colab": {
          "base_uri": "https://localhost:8080/"
        },
        "id": "cb43c27f",
        "outputId": "bb089eb4-498b-4cc0-fdc6-6e84e3f93d78"
      },
      "outputs": [
        {
          "output_type": "execute_result",
          "data": {
            "text/plain": [
              "array([0, 1])"
            ]
          },
          "metadata": {},
          "execution_count": 8
        }
      ],
      "source": [
        "unique_elements = data['is_attack'].unique()\n",
        "unique_elements"
      ]
    },
    {
      "cell_type": "code",
      "execution_count": null,
      "id": "3b413a6e",
      "metadata": {
        "colab": {
          "base_uri": "https://localhost:8080/",
          "height": 198
        },
        "id": "3b413a6e",
        "outputId": "3264499a-17c6-4da3-fba4-a358f8504480"
      },
      "outputs": [
        {
          "output_type": "execute_result",
          "data": {
            "text/plain": [
              "is_attack\n",
              "1    1059162\n",
              "0    1000000\n",
              "Name: count, dtype: int64"
            ],
            "text/html": [
              "<div>\n",
              "<style scoped>\n",
              "    .dataframe tbody tr th:only-of-type {\n",
              "        vertical-align: middle;\n",
              "    }\n",
              "\n",
              "    .dataframe tbody tr th {\n",
              "        vertical-align: top;\n",
              "    }\n",
              "\n",
              "    .dataframe thead th {\n",
              "        text-align: right;\n",
              "    }\n",
              "</style>\n",
              "<table border=\"1\" class=\"dataframe\">\n",
              "  <thead>\n",
              "    <tr style=\"text-align: right;\">\n",
              "      <th></th>\n",
              "      <th>count</th>\n",
              "    </tr>\n",
              "    <tr>\n",
              "      <th>is_attack</th>\n",
              "      <th></th>\n",
              "    </tr>\n",
              "  </thead>\n",
              "  <tbody>\n",
              "    <tr>\n",
              "      <th>1</th>\n",
              "      <td>1059162</td>\n",
              "    </tr>\n",
              "    <tr>\n",
              "      <th>0</th>\n",
              "      <td>1000000</td>\n",
              "    </tr>\n",
              "  </tbody>\n",
              "</table>\n",
              "</div><br><label><b>dtype:</b> int64</label>"
            ]
          },
          "metadata": {},
          "execution_count": 9
        }
      ],
      "source": [
        "value_counts = data['is_attack'].value_counts()\n",
        "value_counts"
      ]
    },
    {
      "cell_type": "code",
      "execution_count": null,
      "id": "a4ba9c2c",
      "metadata": {
        "colab": {
          "base_uri": "https://localhost:8080/"
        },
        "id": "a4ba9c2c",
        "outputId": "84778874-08dc-4857-ca87-fbc6e9f9d91b"
      },
      "outputs": [
        {
          "output_type": "execute_result",
          "data": {
            "text/plain": [
              "Index(['timestamp', 'src_ip', 'dst_ip', 'protocol', 'ttl', 'ip_len',\n",
              "       'ip_flag_df', 'ip_flag_mf', 'ip_flag_rb', 'src_port', 'dst_port',\n",
              "       'tcp_flag_res', 'tcp_flag_ns', 'tcp_flag_cwr', 'tcp_flag_ecn',\n",
              "       'tcp_flag_urg', 'tcp_flag_ack', 'tcp_flag_push', 'tcp_flag_reset',\n",
              "       'tcp_flag_syn', 'tcp_flag_fin', 'is_attack'],\n",
              "      dtype='object')"
            ]
          },
          "metadata": {},
          "execution_count": 10
        }
      ],
      "source": [
        "data.columns"
      ]
    },
    {
      "cell_type": "code",
      "execution_count": null,
      "id": "83d3083b",
      "metadata": {
        "id": "83d3083b"
      },
      "outputs": [],
      "source": [
        "data.drop('timestamp', axis=1, inplace=True)"
      ]
    },
    {
      "cell_type": "code",
      "execution_count": null,
      "id": "63957154",
      "metadata": {
        "colab": {
          "base_uri": "https://localhost:8080/"
        },
        "id": "63957154",
        "outputId": "7f79fa1c-0437-4507-920c-70e4e6e5342f"
      },
      "outputs": [
        {
          "output_type": "execute_result",
          "data": {
            "text/plain": [
              "Index(['src_ip', 'dst_ip', 'protocol', 'ttl', 'ip_len', 'ip_flag_df',\n",
              "       'ip_flag_mf', 'ip_flag_rb', 'src_port', 'dst_port', 'tcp_flag_res',\n",
              "       'tcp_flag_ns', 'tcp_flag_cwr', 'tcp_flag_ecn', 'tcp_flag_urg',\n",
              "       'tcp_flag_ack', 'tcp_flag_push', 'tcp_flag_reset', 'tcp_flag_syn',\n",
              "       'tcp_flag_fin', 'is_attack'],\n",
              "      dtype='object')"
            ]
          },
          "metadata": {},
          "execution_count": 12
        }
      ],
      "source": [
        "data.columns"
      ]
    },
    {
      "cell_type": "code",
      "execution_count": null,
      "id": "2d56d10a",
      "metadata": {
        "colab": {
          "base_uri": "https://localhost:8080/",
          "height": 762
        },
        "id": "2d56d10a",
        "outputId": "c98d2f17-5623-4c34-ecc4-99b0a225b996"
      },
      "outputs": [
        {
          "output_type": "execute_result",
          "data": {
            "text/plain": [
              "src_ip            0.0\n",
              "dst_ip            0.0\n",
              "protocol          0.0\n",
              "ttl               0.0\n",
              "ip_len            0.0\n",
              "ip_flag_df        0.0\n",
              "ip_flag_mf        0.0\n",
              "ip_flag_rb        0.0\n",
              "src_port          0.0\n",
              "dst_port          0.0\n",
              "tcp_flag_res      0.0\n",
              "tcp_flag_ns       0.0\n",
              "tcp_flag_cwr      0.0\n",
              "tcp_flag_ecn      0.0\n",
              "tcp_flag_urg      0.0\n",
              "tcp_flag_ack      0.0\n",
              "tcp_flag_push     0.0\n",
              "tcp_flag_reset    0.0\n",
              "tcp_flag_syn      0.0\n",
              "tcp_flag_fin      0.0\n",
              "is_attack         0.0\n",
              "dtype: float64"
            ],
            "text/html": [
              "<div>\n",
              "<style scoped>\n",
              "    .dataframe tbody tr th:only-of-type {\n",
              "        vertical-align: middle;\n",
              "    }\n",
              "\n",
              "    .dataframe tbody tr th {\n",
              "        vertical-align: top;\n",
              "    }\n",
              "\n",
              "    .dataframe thead th {\n",
              "        text-align: right;\n",
              "    }\n",
              "</style>\n",
              "<table border=\"1\" class=\"dataframe\">\n",
              "  <thead>\n",
              "    <tr style=\"text-align: right;\">\n",
              "      <th></th>\n",
              "      <th>0</th>\n",
              "    </tr>\n",
              "  </thead>\n",
              "  <tbody>\n",
              "    <tr>\n",
              "      <th>src_ip</th>\n",
              "      <td>0.0</td>\n",
              "    </tr>\n",
              "    <tr>\n",
              "      <th>dst_ip</th>\n",
              "      <td>0.0</td>\n",
              "    </tr>\n",
              "    <tr>\n",
              "      <th>protocol</th>\n",
              "      <td>0.0</td>\n",
              "    </tr>\n",
              "    <tr>\n",
              "      <th>ttl</th>\n",
              "      <td>0.0</td>\n",
              "    </tr>\n",
              "    <tr>\n",
              "      <th>ip_len</th>\n",
              "      <td>0.0</td>\n",
              "    </tr>\n",
              "    <tr>\n",
              "      <th>ip_flag_df</th>\n",
              "      <td>0.0</td>\n",
              "    </tr>\n",
              "    <tr>\n",
              "      <th>ip_flag_mf</th>\n",
              "      <td>0.0</td>\n",
              "    </tr>\n",
              "    <tr>\n",
              "      <th>ip_flag_rb</th>\n",
              "      <td>0.0</td>\n",
              "    </tr>\n",
              "    <tr>\n",
              "      <th>src_port</th>\n",
              "      <td>0.0</td>\n",
              "    </tr>\n",
              "    <tr>\n",
              "      <th>dst_port</th>\n",
              "      <td>0.0</td>\n",
              "    </tr>\n",
              "    <tr>\n",
              "      <th>tcp_flag_res</th>\n",
              "      <td>0.0</td>\n",
              "    </tr>\n",
              "    <tr>\n",
              "      <th>tcp_flag_ns</th>\n",
              "      <td>0.0</td>\n",
              "    </tr>\n",
              "    <tr>\n",
              "      <th>tcp_flag_cwr</th>\n",
              "      <td>0.0</td>\n",
              "    </tr>\n",
              "    <tr>\n",
              "      <th>tcp_flag_ecn</th>\n",
              "      <td>0.0</td>\n",
              "    </tr>\n",
              "    <tr>\n",
              "      <th>tcp_flag_urg</th>\n",
              "      <td>0.0</td>\n",
              "    </tr>\n",
              "    <tr>\n",
              "      <th>tcp_flag_ack</th>\n",
              "      <td>0.0</td>\n",
              "    </tr>\n",
              "    <tr>\n",
              "      <th>tcp_flag_push</th>\n",
              "      <td>0.0</td>\n",
              "    </tr>\n",
              "    <tr>\n",
              "      <th>tcp_flag_reset</th>\n",
              "      <td>0.0</td>\n",
              "    </tr>\n",
              "    <tr>\n",
              "      <th>tcp_flag_syn</th>\n",
              "      <td>0.0</td>\n",
              "    </tr>\n",
              "    <tr>\n",
              "      <th>tcp_flag_fin</th>\n",
              "      <td>0.0</td>\n",
              "    </tr>\n",
              "    <tr>\n",
              "      <th>is_attack</th>\n",
              "      <td>0.0</td>\n",
              "    </tr>\n",
              "  </tbody>\n",
              "</table>\n",
              "</div><br><label><b>dtype:</b> float64</label>"
            ]
          },
          "metadata": {},
          "execution_count": 13
        }
      ],
      "source": [
        "(data.isnull().sum() / len(data)) * 100"
      ]
    },
    {
      "cell_type": "code",
      "execution_count": null,
      "id": "3a7df75b",
      "metadata": {
        "id": "3a7df75b"
      },
      "outputs": [],
      "source": [
        "target_column = 'is_attack'\n",
        "categorical_columns = [col for col in data.columns if col not in [target_column]]"
      ]
    },
    {
      "cell_type": "code",
      "execution_count": null,
      "id": "58bbae5b",
      "metadata": {
        "id": "58bbae5b"
      },
      "outputs": [],
      "source": [
        "# Y = mx +c\n",
        "# Y is what we are predicting if \"is_attack and our x is other columns that we are using to predict is \"is_attack\"\n",
        "X = data.drop(target_column, axis=1)\n",
        "\n",
        "y = data[target_column]\n",
        "\n",
        "\n",
        "X_train, X_temp, y_train, y_temp = train_test_split(X, y, test_size=0.25, random_state=42)\n",
        "\n",
        "X_valid, X_test, y_valid, y_test = train_test_split(X_temp, y_temp, test_size=0.4, random_state=42)"
      ]
    },
    {
      "cell_type": "code",
      "execution_count": null,
      "id": "fb6ba8ea",
      "metadata": {
        "id": "fb6ba8ea"
      },
      "outputs": [],
      "source": [
        "# Standard Scaling\n",
        "scaler = StandardScaler()\n",
        "\n",
        "#Perfom feature scaling for the training set\n",
        "X_train_scaled = X_train.copy()\n",
        "X_train_scaled[categorical_columns] = scaler.fit_transform(X_train[categorical_columns])\n",
        "\n",
        "#Perfom feature scaling for the training set\n",
        "X_valid_scaled = X_valid.copy()\n",
        "X_valid_scaled[categorical_columns] = scaler.transform(X_valid[categorical_columns])\n",
        "\n",
        "#Perfom feature scaling for the test set\n",
        "X_test_scaled = X_test.copy()\n",
        "X_test_scaled[categorical_columns] = scaler.transform(X_test[categorical_columns])\n",
        "\n",
        "# Reshape data for LSTM\n",
        "\n",
        "#I now convert the scaled training set into a NP Arrays and then reshape it\n",
        "\n",
        "#I reshaped it to be compatible with the expected inputs by LSTM model\n",
        "X_train_numpy = X_train_scaled[categorical_columns].to_numpy()\n",
        "X_train_lstm = X_train_numpy.reshape(X_train_numpy.shape[0], 1, X_train_numpy.shape[1])"
      ]
    },
    {
      "cell_type": "code",
      "execution_count": null,
      "id": "38aa80b4",
      "metadata": {
        "id": "38aa80b4"
      },
      "outputs": [],
      "source": [
        "# Convert the DataFrame to a NumPy array\n",
        "\n",
        "\n",
        "#I now convert the scaled validation set into a NP Arrays and then reshape it\n",
        "\n",
        "#I reshaped it to be compatible with the expected inputs by LSTM model\n",
        "\n",
        "X_valid_array = X_valid_scaled[categorical_columns].to_numpy()\n",
        "\n",
        "X_valid_reshaped = X_valid_array.reshape(X_valid_array.shape[0], 1, X_valid_array.shape[1])"
      ]
    },
    {
      "cell_type": "markdown",
      "id": "d93afa83",
      "metadata": {
        "id": "d93afa83"
      },
      "source": [
        "#### **Implementing LSTM Model using Stochastic Gradient Descent  Optmizer PATE(Without Differential Privacy.)**"
      ]
    },
    {
      "cell_type": "code",
      "execution_count": null,
      "id": "V5RZBe95f42N",
      "metadata": {
        "id": "V5RZBe95f42N"
      },
      "outputs": [],
      "source": [
        "from keras.callbacks import EarlyStopping\n",
        "# Early stopping (make patience bigger if stopping too early)\n",
        "early_stopping = EarlyStopping(monitor='val_loss', patience=10, restore_best_weights=True)"
      ]
    },
    {
      "cell_type": "code",
      "execution_count": null,
      "id": "b3f505d2",
      "metadata": {
        "colab": {
          "base_uri": "https://localhost:8080/"
        },
        "id": "b3f505d2",
        "outputId": "8b337115-63cd-4d96-f029-ecb882c68552"
      },
      "outputs": [
        {
          "output_type": "stream",
          "name": "stdout",
          "text": [
            "Epoch 1/2\n",
            "24131/24131 [==============================] - 89s 4ms/step - loss: 0.0165 - accuracy: 0.9954 - val_loss: 1.6872e-04 - val_accuracy: 1.0000\n",
            "Epoch 2/2\n",
            "24131/24131 [==============================] - 87s 4ms/step - loss: 2.3041e-04 - accuracy: 0.9999 - val_loss: 2.1795e-04 - val_accuracy: 1.0000\n",
            "24131/24131 [==============================] - 35s 1ms/step\n",
            "Epoch 1/2\n",
            "24118/24131 [============================>.] - ETA: 0s - loss: 0.0178 - accuracy: 0.9946"
          ]
        },
        {
          "output_type": "stream",
          "name": "stderr",
          "text": [
            "WARNING:tensorflow:Early stopping conditioned on metric `val_loss` which is not available. Available metrics are: loss,accuracy\n"
          ]
        },
        {
          "output_type": "stream",
          "name": "stdout",
          "text": [
            "\b\b\b\b\b\b\b\b\b\b\b\b\b\b\b\b\b\b\b\b\b\b\b\b\b\b\b\b\b\b\b\b\b\b\b\b\b\b\b\b\b\b\b\b\b\b\b\b\b\b\b\b\b\b\b\b\b\b\b\b\b\b\b\b\b\b\b\b\b\b\b\b\b\b\b\b\b\b\b\b\b\b\b\b\b\b\b\b\r24131/24131 [==============================] - 59s 2ms/step - loss: 0.0178 - accuracy: 0.9946\n",
            "Epoch 2/2\n",
            "24127/24131 [============================>.] - ETA: 0s - loss: 1.2654e-07 - accuracy: 1.0000"
          ]
        },
        {
          "output_type": "stream",
          "name": "stderr",
          "text": [
            "WARNING:tensorflow:Early stopping conditioned on metric `val_loss` which is not available. Available metrics are: loss,accuracy\n"
          ]
        },
        {
          "output_type": "stream",
          "name": "stdout",
          "text": [
            "24131/24131 [==============================] - 57s 2ms/step - loss: 1.2652e-07 - accuracy: 1.0000\n",
            "24131/24131 [==============================] - 36s 1ms/step - loss: 7.9066e-04 - accuracy: 1.0000\n",
            "Epoch 1/2\n",
            "24131/24131 [==============================] - 91s 4ms/step - loss: 0.0190 - accuracy: 0.9943 - val_loss: 2.9542e-04 - val_accuracy: 1.0000\n",
            "Epoch 2/2\n",
            "24131/24131 [==============================] - 89s 4ms/step - loss: 2.0038e-04 - accuracy: 1.0000 - val_loss: 2.0842e-04 - val_accuracy: 1.0000\n",
            "24131/24131 [==============================] - 34s 1ms/step\n",
            "Epoch 1/2\n",
            "24129/24131 [============================>.] - ETA: 0s - loss: 0.0185 - accuracy: 0.9943"
          ]
        },
        {
          "output_type": "stream",
          "name": "stderr",
          "text": [
            "WARNING:tensorflow:Early stopping conditioned on metric `val_loss` which is not available. Available metrics are: loss,accuracy\n"
          ]
        },
        {
          "output_type": "stream",
          "name": "stdout",
          "text": [
            "\b\b\b\b\b\b\b\b\b\b\b\b\b\b\b\b\b\b\b\b\b\b\b\b\b\b\b\b\b\b\b\b\b\b\b\b\b\b\b\b\b\b\b\b\b\b\b\b\b\b\b\b\b\b\b\b\b\b\b\b\b\b\b\b\b\b\b\b\b\b\b\b\b\b\b\b\b\b\b\b\b\b\b\b\b\b\b\b\r24131/24131 [==============================] - 60s 2ms/step - loss: 0.0185 - accuracy: 0.9943\n",
            "Epoch 2/2\n",
            "24125/24131 [============================>.] - ETA: 0s - loss: 2.0673e-07 - accuracy: 1.0000"
          ]
        },
        {
          "output_type": "stream",
          "name": "stderr",
          "text": [
            "WARNING:tensorflow:Early stopping conditioned on metric `val_loss` which is not available. Available metrics are: loss,accuracy\n"
          ]
        },
        {
          "output_type": "stream",
          "name": "stdout",
          "text": [
            "24131/24131 [==============================] - 58s 2ms/step - loss: 2.0668e-07 - accuracy: 1.0000\n",
            "24131/24131 [==============================] - 36s 1ms/step - loss: 0.0014 - accuracy: 1.0000\n",
            "Epoch 1/2\n",
            "38610/38610 [==============================] - 108s 3ms/step - loss: 0.0115 - accuracy: 0.9963 - val_loss: 2.3159e-04 - val_accuracy: 0.9999\n",
            "Epoch 2/2\n",
            "38610/38610 [==============================] - 105s 3ms/step - loss: 2.0752e-04 - accuracy: 1.0000 - val_loss: 2.3264e-04 - val_accuracy: 1.0000\n",
            "48262/48262 [==============================] - 68s 1ms/step\n",
            "Epoch 1/2\n",
            "38610/38610 [==============================] - 113s 3ms/step - loss: 0.0115 - accuracy: 0.9967 - val_loss: 2.2795e-05 - val_accuracy: 1.0000\n",
            "Epoch 2/2\n",
            "38610/38610 [==============================] - 110s 3ms/step - loss: 2.7380e-09 - accuracy: 1.0000 - val_loss: 7.5001e-06 - val_accuracy: 1.0000\n",
            "6435/6435 [==============================] - 9s 1ms/step\n"
          ]
        }
      ],
      "source": [
        "# Define the input_shape variable\n",
        "#input_shape = X_train_lstm.shape[1:]\n",
        "input_shape=(1, len(categorical_columns))\n",
        "num_classes = data[target_column].nunique()\n",
        "\n",
        "def create_teacher_model(input_shape, num_classes):\n",
        "    model = Sequential()\n",
        "    model.add(LSTM(units=48, input_shape=input_shape))\n",
        "    model.add(Dense(units=64, activation='relu'))\n",
        "    model.add(Dense(units=48, activation='relu'))\n",
        "    model.add(Dropout(rate=0.1))\n",
        "    model.add(Dense(num_classes, activation='softmax'))\n",
        "\n",
        "    optimizer = Adam(learning_rate=0.0001)\n",
        "    model.compile(optimizer=optimizer, loss='sparse_categorical_crossentropy', metrics=['accuracy'])\n",
        "\n",
        "    return model\n",
        "\n",
        "def create_student_model(input_shape, num_classes):\n",
        "    model = Sequential()\n",
        "    model.add(LSTM(units=48, input_shape=input_shape))\n",
        "    model.add(Dense(units=64, activation='relu'))\n",
        "    model.add(Dense(units=48, activation='relu'))\n",
        "    model.add(Dropout(rate=0.1))\n",
        "    model.add(Dense(num_classes, activation='softmax'))\n",
        "\n",
        "    optimizer = Adam(learning_rate=0.0001)\n",
        "    model.compile(optimizer=optimizer, loss='sparse_categorical_crossentropy', metrics=['accuracy'])\n",
        "\n",
        "    return model\n",
        "# Define your hyperparameters\n",
        "num_teachers = 1\n",
        "epsilon = 1.0\n",
        "kfolds = 2\n",
        "num_epochs = 2\n",
        "bs = 32\n",
        "\n",
        "# Perform 5-fold cross-validation\n",
        "kfold = StratifiedKFold(n_splits=kfolds, shuffle=True, random_state=42)  # Set random_state for reproducibility\n",
        "cv_results = []\n",
        "\n",
        "for train_index, test_index in kfold.split(X_train_lstm, y_train):\n",
        "    X_train_fold, X_val_fold = X_train_lstm[train_index], X_train_lstm[test_index]\n",
        "    y_train_fold, y_val_fold = y_train.iloc[train_index], y_train.iloc[test_index]\n",
        "\n",
        "    # Create and train teacher models for this fold\n",
        "    teacher_models = []\n",
        "    for i in range(num_teachers):\n",
        "        teacher_model = create_teacher_model(input_shape, num_classes)\n",
        "        teacher_model.fit(X_train_fold, y_train_fold, epochs=num_epochs, batch_size=bs,\n",
        "                          validation_data= (X_val_fold, y_val_fold),\n",
        "                          callbacks=[early_stopping])  # Adjust epochs and batch_size as needed\n",
        "        teacher_models.append(teacher_model)\n",
        "\n",
        "    # Generate labels for the training data using teacher models\n",
        "    def generate_labels(data):\n",
        "        labels = []\n",
        "        for model in teacher_models:\n",
        "            labels.append(np.argmax(model.predict(data), axis = 1))\n",
        "        return np.array(labels)  # Convert list of arrays to a single array\n",
        "\n",
        "    # Define your student model\n",
        "    student_model = create_student_model(input_shape, num_classes)\n",
        "\n",
        "    # Generate labels for the training data using teacher models\n",
        "    train_labels = generate_labels(X_train_fold)\n",
        "    # train_labels = train_labels.reshape((-1, num_teachers, num_classes))\n",
        "    student_y_train_fold = pd.Series(train_labels[0], index = y_train_fold.index)\n",
        "\n",
        "    # Train the student model using the labels generated by the teacher models\n",
        "    student_model.fit(X_train_fold, student_y_train_fold, epochs=num_epochs, batch_size=bs, callbacks=[early_stopping])  # Adjust epochs and batch_size as needed\n",
        "\n",
        "    # Evaluate the student model on the validation set\n",
        "    val_loss, val_accuracy = student_model.evaluate(X_val_fold, y_val_fold)\n",
        "    cv_results.append((val_loss, val_accuracy))\n",
        "\n",
        "# Fit the full model on the entire training set\n",
        "teacher_models = []\n",
        "for i in range(num_teachers):\n",
        "    teacher_model = create_teacher_model(input_shape, num_classes)\n",
        "    teacher_model.fit(X_train_lstm, y_train, epochs=num_epochs, batch_size=bs, validation_split = 0.2, callbacks=[early_stopping])  # Adjust epochs and batch_size as needed\n",
        "    teacher_models.append(teacher_model)\n",
        "\n",
        "# Generate labels for the training data using teacher models\n",
        "def generate_labels(data):\n",
        "    labels = []\n",
        "    for model in teacher_models:\n",
        "        labels.append(np.argmax(model.predict(data), axis = 1))\n",
        "    return np.array(labels)  # Convert list of arrays to a single array\n",
        "\n",
        "# Define your student model\n",
        "student_model = create_student_model(input_shape, num_classes)\n",
        "\n",
        "# Generate labels for the training data using teacher models\n",
        "train_labels = generate_labels(X_train_lstm)\n",
        "# train_labels = train_labels.reshape((-1, num_teachers, num_classes))\n",
        "student_train_labels = pd.Series(train_labels[0], index = y_train.index)\n",
        "\n",
        "# Train the student model using the labels generated by the teacher models\n",
        "model_history =student_model.fit(X_train_lstm, student_train_labels, epochs=num_epochs, batch_size=bs,validation_split = 0.2, callbacks=[early_stopping])  # Adjust epochs and batch_size as needed\n",
        "\n",
        "\n",
        "# # Predict on the test data\n",
        "X_test_array = X_test_scaled[categorical_columns].to_numpy()\n",
        "X_test_reshaped = X_test_array.reshape(X_test_array.shape[0], 1, X_test_array.shape[1])\n",
        "\n",
        "# Predict on the test data\n",
        "y_test_pred = student_model.predict(X_test_reshaped)"
      ]
    },
    {
      "cell_type": "code",
      "execution_count": null,
      "id": "Tk_pO-4IfdQn",
      "metadata": {
        "colab": {
          "base_uri": "https://localhost:8080/",
          "height": 427
        },
        "id": "Tk_pO-4IfdQn",
        "outputId": "98d43c99-c970-4bcb-d40e-59a89184a0d0"
      },
      "outputs": [
        {
          "output_type": "display_data",
          "data": {
            "text/plain": [
              "<Figure size 1200x400 with 2 Axes>"
            ],
            "image/png": "[encoded data removed]"
          },
          "metadata": {}
        }
      ],
      "source": [
        "# Function to plot loss curves\n",
        "def plot_loss(history1, history2=None):\n",
        "    plt.figure(figsize=(12, 4))\n",
        "\n",
        "    # Plot training & validation loss values for the first model\n",
        "    plt.subplot(1, 2, 1)\n",
        "    plt.plot(history1.history['loss'])\n",
        "    plt.plot(history1.history['val_loss'])\n",
        "    plt.title('Model loss')\n",
        "    plt.xlabel('Epoch')\n",
        "    plt.ylabel('Loss')\n",
        "    plt.legend(['Train', 'Validation'], loc='upper right')\n",
        "\n",
        "    # Plot training & validation accuracy values for the first model\n",
        "    plt.subplot(1, 2, 2)\n",
        "    plt.plot(history1.history['accuracy'])\n",
        "    plt.plot(history1.history['val_accuracy'])\n",
        "    plt.title('Model accuracy')\n",
        "    plt.xlabel('Epoch')\n",
        "    plt.ylabel('Accuracy')\n",
        "    plt.legend(['Train', 'Validation'], loc='lower right')\n",
        "\n",
        "    if history2 is not None:\n",
        "        # Plot training & validation loss values for the second model\n",
        "        plt.subplot(1, 2, 1)\n",
        "        plt.plot(history2.history['loss'], linestyle='dashed')\n",
        "        plt.plot(history2.history['val_loss'], linestyle='dashed')\n",
        "        plt.legend(['Train', 'Validation', 'Train Privacy', 'Validation Privacy'], loc='upper right')\n",
        "\n",
        "        # Plot training & validation accuracy values for the second model\n",
        "        plt.subplot(1, 2, 2)\n",
        "        plt.plot(history2.history['accuracy'], linestyle='dashed')\n",
        "        plt.plot(history2.history['val_accuracy'], linestyle='dashed')\n",
        "        plt.legend(['Train', 'Validation', 'Train Privacy', 'Validation Privacy'], loc='lower right')\n",
        "\n",
        "    plt.tight_layout()\n",
        "    plt.show()\n",
        "\n",
        "# Plot loss curves\n",
        "plot_loss(model_history)"
      ]
    },
    {
      "cell_type": "code",
      "execution_count": null,
      "id": "1bd12bf1",
      "metadata": {
        "colab": {
          "base_uri": "https://localhost:8080/"
        },
        "id": "1bd12bf1",
        "outputId": "a0689f9a-27c4-4d9b-bdad-821f07e286f9"
      },
      "outputs": [
        {
          "output_type": "stream",
          "name": "stdout",
          "text": [
            "Average cross-validation loss: 0.0010992510942742229\n",
            "Average cross-validation accuracy: 0.9999592006206512\n",
            "MLP Model:\n",
            "Accuracy =  0.9999757183719654\n",
            "Precision = 0.9999749428697431\n",
            "Recall = 0.9999764484220443\n",
            "F1 Score =  0.999975695054611\n"
          ]
        }
      ],
      "source": [
        "# Convert probability predictions to class labels\n",
        "y_test_pred_classes_mlp = np.argmax(y_test_pred, axis=1)\n",
        "\n",
        "# Print the average cross-validation results\n",
        "print(\"Average cross-validation loss:\", sum(cv_result[0] for cv_result in cv_results) / len(cv_results))\n",
        "print(\"Average cross-validation accuracy:\", sum(cv_result[1] for cv_result in cv_results) / len(cv_results))\n",
        "\n",
        "# Evaluate the MLP model\n",
        "accuracy_mlp = accuracy_score(y_test, y_test_pred_classes_mlp)\n",
        "precision_mlp = precision_score(y_test, y_test_pred_classes_mlp, average='macro')\n",
        "recall_mlp = recall_score(y_test, y_test_pred_classes_mlp, average='macro')\n",
        "f1_mlp = f1_score(y_test, y_test_pred_classes_mlp, average='macro')\n",
        "\n",
        "# Print the results for the MLP model\n",
        "print(\"MLP Model:\")\n",
        "print(f\"Accuracy =  {accuracy_mlp}\")\n",
        "print(f\"Precision = {precision_mlp}\")\n",
        "print(f\"Recall = {recall_mlp}\")\n",
        "print(f\"F1 Score =  {f1_mlp}\")"
      ]
    },
    {
      "cell_type": "code",
      "execution_count": null,
      "id": "135b3724",
      "metadata": {
        "colab": {
          "base_uri": "https://localhost:8080/",
          "height": 627
        },
        "id": "135b3724",
        "outputId": "9d4f52c5-b8a0-4692-d572-221333fef67e"
      },
      "outputs": [
        {
          "output_type": "display_data",
          "data": {
            "text/plain": [
              "<Figure size 800x600 with 2 Axes>"
            ],
            "image/png": "[encoded data removed]"
          },
          "metadata": {}
        }
      ],
      "source": [
        "# Confusion Matrix\n",
        "conf_matrix = confusion_matrix(y_test, y_test_pred_classes_mlp)\n",
        "\n",
        "plt.figure(figsize=(8, 6))\n",
        "plt.imshow(conf_matrix, interpolation='nearest', cmap=plt.cm.Blues)\n",
        "plt.title('Confusion Matrix')\n",
        "plt.colorbar()\n",
        "\n",
        "num_classes = conf_matrix.shape[0]\n",
        "\n",
        "# Get class labels from the LabelEncoder\n",
        "class_labels = [0,1]\n",
        "\n",
        "plt.xticks(np.arange(num_classes), class_labels, rotation=45)\n",
        "plt.yticks(np.arange(num_classes), class_labels)\n",
        "\n",
        "thresh = conf_matrix.max() / 2.\n",
        "\n",
        "# Add text annotations\n",
        "for i in range(num_classes):\n",
        "    for j in range(num_classes):\n",
        "        plt.text(j, i, format(conf_matrix[i, j], 'd'),\n",
        "                 ha=\"center\", va=\"center\",\n",
        "                 color=\"white\" if conf_matrix[i, j] > thresh else \"black\")\n",
        "\n",
        "plt.xlabel('Predicted label')\n",
        "plt.ylabel('True label')\n",
        "plt.tight_layout()\n",
        "plt.show()"
      ]
    },
    {
      "cell_type": "code",
      "execution_count": null,
      "id": "9d8f8ddb",
      "metadata": {
        "colab": {
          "base_uri": "https://localhost:8080/",
          "height": 584
        },
        "id": "9d8f8ddb",
        "outputId": "c215fb94-4514-4959-ad43-e887bc07f265"
      },
      "outputs": [
        {
          "output_type": "display_data",
          "data": {
            "text/plain": [
              "<Figure size 800x600 with 1 Axes>"
            ],
            "image/png": "[encoded data removed]"
          },
          "metadata": {}
        }
      ],
      "source": [
        "# Calculate precision and recall values for different thresholds\n",
        "precision, recall, thresholds = precision_recall_curve(y_test, y_test_pred[:,0])\n",
        "\n",
        "# Plot the precision-recall curve\n",
        "plt.figure(figsize=(8, 6))\n",
        "plt.plot(recall, precision, marker='.')\n",
        "plt.xlabel('Recall')\n",
        "plt.ylabel('Precision')\n",
        "plt.title('Precision-Recall Curve')\n",
        "plt.grid(True)\n",
        "plt.show()"
      ]
    },
    {
      "cell_type": "code",
      "execution_count": null,
      "id": "ded2e70d",
      "metadata": {
        "colab": {
          "base_uri": "https://localhost:8080/",
          "height": 637
        },
        "id": "ded2e70d",
        "outputId": "13403d0d-c659-47c7-a174-04cf870fcbfb"
      },
      "outputs": [
        {
          "output_type": "stream",
          "name": "stderr",
          "text": [
            "<ipython-input-24-de4ab9824f8a>:5: RuntimeWarning: invalid value encountered in divide\n",
            "  f1_scores = 2 * (precision * recall) / (precision + recall)\n"
          ]
        },
        {
          "output_type": "display_data",
          "data": {
            "text/plain": [
              "<Figure size 800x600 with 1 Axes>"
            ],
            "image/png": "[encoded data removed]"
          },
          "metadata": {}
        },
        {
          "output_type": "stream",
          "name": "stdout",
          "text": [
            "Best Threshold for Max F1 Score: 1.0\n"
          ]
        }
      ],
      "source": [
        "# Calculate precision, recall, and thresholds\n",
        "precision, recall, thresholds = precision_recall_curve(y_test, y_test_pred[:,0])\n",
        "\n",
        "# Calculate the F1 score at each threshold\n",
        "f1_scores = 2 * (precision * recall) / (precision + recall)\n",
        "\n",
        "# Find the threshold that maximizes the F1 score\n",
        "best_threshold = thresholds[np.argmax(f1_scores)]\n",
        "\n",
        "# Plot the F1 score curve\n",
        "plt.figure(figsize=(8, 6))\n",
        "plt.plot(thresholds, f1_scores[:-1], marker='.')\n",
        "plt.xlabel('Threshold')\n",
        "plt.ylabel('F1 Score')\n",
        "plt.title('F1 Score vs. Threshold')\n",
        "plt.grid(True)\n",
        "plt.show()\n",
        "\n",
        "print(f\"Best Threshold for Max F1 Score: {best_threshold}\")\n"
      ]
    },
    {
      "cell_type": "markdown",
      "id": "17da093e",
      "metadata": {
        "id": "17da093e"
      },
      "source": [
        "### **Implement LSTM using Stochastic Gradient Descent Optmizer with Differential Privacy PATE.**\n",
        "\n",
        "- Differential privacy (DP) is a technique that can be used to add noise to data in a way that makes it difficult to identify individuals in the dataset, while still allowing the data to be used to train accurate machine learning models."
      ]
    },
    {
      "cell_type": "code",
      "execution_count": null,
      "id": "xeMxpSCcQTf9",
      "metadata": {
        "colab": {
          "base_uri": "https://localhost:8080/"
        },
        "id": "xeMxpSCcQTf9",
        "outputId": "467d7ce1-257e-4a76-ecb5-c3de4d7ba8b4"
      },
      "outputs": [
        {
          "output_type": "stream",
          "name": "stdout",
          "text": [
            "Epoch 1/2\n",
            "24131/24131 [==============================] - 95s 4ms/step - loss: 0.0182 - accuracy: 0.9945 - val_loss: 1.6603e-04 - val_accuracy: 1.0000\n",
            "Epoch 2/2\n",
            "24131/24131 [==============================] - 91s 4ms/step - loss: 2.2051e-04 - accuracy: 1.0000 - val_loss: 1.3417e-04 - val_accuracy: 1.0000\n",
            "24131/24131 [==============================] - 34s 1ms/step\n",
            "Epoch 1/2\n",
            "24123/24131 [============================>.] - ETA: 0s - loss: 0.2859 - accuracy: 0.9191"
          ]
        },
        {
          "output_type": "stream",
          "name": "stderr",
          "text": [
            "WARNING:tensorflow:Early stopping conditioned on metric `val_loss` which is not available. Available metrics are: loss,accuracy\n"
          ]
        },
        {
          "output_type": "stream",
          "name": "stdout",
          "text": [
            "\b\b\b\b\b\b\b\b\b\b\b\b\b\b\b\b\b\b\b\b\b\b\b\b\b\b\b\b\b\b\b\b\b\b\b\b\b\b\b\b\b\b\b\b\b\b\b\b\b\b\b\b\b\b\b\b\b\b\b\b\b\b\b\b\b\b\b\b\b\b\b\b\b\b\b\b\b\b\b\b\b\b\b\b\b\b\b\b\r24131/24131 [==============================] - 72s 3ms/step - loss: 0.2860 - accuracy: 0.9191\n",
            "Epoch 2/2\n",
            "24128/24131 [============================>.] - ETA: 0s - loss: 0.6716 - accuracy: 0.9542"
          ]
        },
        {
          "output_type": "stream",
          "name": "stderr",
          "text": [
            "WARNING:tensorflow:Early stopping conditioned on metric `val_loss` which is not available. Available metrics are: loss,accuracy\n"
          ]
        },
        {
          "output_type": "stream",
          "name": "stdout",
          "text": [
            "24131/24131 [==============================] - 62s 3ms/step - loss: 0.6719 - accuracy: 0.9542\n",
            "24131/24131 [==============================] - 37s 2ms/step - loss: 9.8065e-04 - accuracy: 1.0000\n",
            "Epoch 1/2\n",
            "24131/24131 [==============================] - 92s 4ms/step - loss: 0.0187 - accuracy: 0.9938 - val_loss: 2.4502e-04 - val_accuracy: 1.0000\n",
            "Epoch 2/2\n",
            "24131/24131 [==============================] - 90s 4ms/step - loss: 1.7372e-04 - accuracy: 1.0000 - val_loss: 1.7497e-04 - val_accuracy: 1.0000\n",
            "24131/24131 [==============================] - 34s 1ms/step\n",
            "Epoch 1/2\n",
            "24112/24131 [============================>.] - ETA: 0s - loss: 0.3672 - accuracy: 0.9126"
          ]
        },
        {
          "output_type": "stream",
          "name": "stderr",
          "text": [
            "WARNING:tensorflow:Early stopping conditioned on metric `val_loss` which is not available. Available metrics are: loss,accuracy\n"
          ]
        },
        {
          "output_type": "stream",
          "name": "stdout",
          "text": [
            "\b\b\b\b\b\b\b\b\b\b\b\b\b\b\b\b\b\b\b\b\b\b\b\b\b\b\b\b\b\b\b\b\b\b\b\b\b\b\b\b\b\b\b\b\b\b\b\b\b\b\b\b\b\b\b\b\b\b\b\b\b\b\b\b\b\b\b\b\b\b\b\b\b\b\b\b\b\b\b\b\b\b\b\b\b\b\b\b\r24131/24131 [==============================] - 73s 3ms/step - loss: 0.3672 - accuracy: 0.9126\n",
            "Epoch 2/2\n",
            "24131/24131 [==============================] - ETA: 0s - loss: 0.6824 - accuracy: 0.9468"
          ]
        },
        {
          "output_type": "stream",
          "name": "stderr",
          "text": [
            "WARNING:tensorflow:Early stopping conditioned on metric `val_loss` which is not available. Available metrics are: loss,accuracy\n"
          ]
        },
        {
          "output_type": "stream",
          "name": "stdout",
          "text": [
            "24131/24131 [==============================] - 63s 3ms/step - loss: 0.6824 - accuracy: 0.9468\n",
            "24131/24131 [==============================] - 37s 2ms/step - loss: 0.0013 - accuracy: 1.0000\n",
            "Epoch 1/2\n",
            "38610/38610 [==============================] - 107s 3ms/step - loss: 0.0108 - accuracy: 0.9968 - val_loss: 1.6363e-04 - val_accuracy: 1.0000\n",
            "Epoch 2/2\n",
            "38610/38610 [==============================] - 104s 3ms/step - loss: 1.7700e-04 - accuracy: 1.0000 - val_loss: 3.2044e-04 - val_accuracy: 1.0000\n",
            "48262/48262 [==============================] - 66s 1ms/step\n",
            "Epoch 1/2\n",
            "38610/38610 [==============================] - 123s 3ms/step - loss: 0.5802 - accuracy: 0.9219 - val_loss: 0.3377 - val_accuracy: 0.9813\n",
            "Epoch 2/2\n",
            "38610/38610 [==============================] - 112s 3ms/step - loss: 1.1434 - accuracy: 0.9587 - val_loss: 0.6347 - val_accuracy: 0.9823\n"
          ]
        }
      ],
      "source": [
        "# Define the input_shape variable\n",
        "#input_shape = X_train_lstm.shape[1:]\n",
        "input_shape=(1, len(categorical_columns))\n",
        "\n",
        "def create_teacher_model(input_shape, num_classes):\n",
        "    model = Sequential()\n",
        "    model.add(LSTM(units=48, input_shape=input_shape))\n",
        "    model.add(Dense(units=64, activation='relu'))\n",
        "    model.add(Dense(units=48, activation='relu'))\n",
        "    model.add(Dropout(rate=0.1))\n",
        "    model.add(Dense(num_classes, activation='softmax'))\n",
        "\n",
        "    optimizer = Adam(learning_rate=0.0001)\n",
        "    model.compile(optimizer=optimizer, loss='sparse_categorical_crossentropy', metrics=['accuracy'])\n",
        "\n",
        "    return model\n",
        "\n",
        "# Set hyperparameters for privacy-preserving training\n",
        "batch_size = 128  # Number of samples in each training batch\n",
        "l2_norm_clip = 1.5  # Upper bound on the L2 norm of model's gradients\n",
        "noise_multiplier = 1.3  # Multiplier for the Gaussian noise added to gradients\n",
        "num_microbatches = 1  # Number of microbatches for training\n",
        "learning_rate = 0.003  # Learning rate for the optimizer\n",
        "\n",
        "# Ensure that batch size is a multiple of the number of microbatches\n",
        "if batch_size % num_microbatches != 0:\n",
        "    raise ValueError('Batch size should be an integer multiple of the number of microbatches')\n",
        "\n",
        "# Initialize a differentially private stochastic gradient descent optimizer\n",
        "optimizer = tensorflow_privacy.DPKerasSGDOptimizer(\n",
        "    l2_norm_clip=l2_norm_clip,\n",
        "    noise_multiplier=noise_multiplier,\n",
        "    num_microbatches=num_microbatches,\n",
        "    learning_rate=learning_rate)\n",
        "\n",
        "def create_student_model_privacy(input_shape, num_classes):\n",
        "    model = Sequential()\n",
        "    model.add(LSTM(units=48, input_shape=input_shape))\n",
        "    model.add(Dense(units=64, activation='relu'))\n",
        "    model.add(Dense(units=48, activation='relu'))\n",
        "    model.add(Dropout(rate=0.1))\n",
        "    model.add(Dense(num_classes, activation='softmax'))\n",
        "\n",
        "    # Compile the model outside the loop if the architecture and optimizer are consistent\n",
        "    model.compile(optimizer=optimizer, loss='sparse_categorical_crossentropy', metrics=['accuracy'])\n",
        "\n",
        "    return model\n",
        "\n",
        "\n",
        "\n",
        "# Add early stopping\n",
        "early_stopping = EarlyStopping(monitor='val_loss', patience=5, restore_best_weights=True)\n",
        "\n",
        "# Define your hyperparameters\n",
        "num_teachers = 1\n",
        "epsilon = 1.0\n",
        "kfolds = 2\n",
        "num_epochs = 2\n",
        "bs = 32\n",
        "\n",
        "# Perform 5-fold cross-validation\n",
        "kfold = StratifiedKFold(n_splits=kfolds, shuffle=True, random_state=42)  # Set random_state for reproducibility\n",
        "cv_results = []\n",
        "\n",
        "for train_index, test_index in kfold.split(X_train_lstm, y_train):\n",
        "    X_train_fold, X_val_fold = X_train_lstm[train_index], X_train_lstm[test_index]\n",
        "    y_train_fold, y_val_fold = y_train.iloc[train_index], y_train.iloc[test_index]\n",
        "\n",
        "    # Create and train teacher models for this fold\n",
        "    teacher_models = []\n",
        "    for i in range(num_teachers):\n",
        "        teacher_model = create_teacher_model(input_shape, num_classes)\n",
        "        teacher_model.fit(X_train_fold, y_train_fold, epochs=num_epochs, batch_size=bs,\n",
        "                          validation_data= (X_val_fold, y_val_fold) ,\n",
        "                          callbacks=[early_stopping])  # Adjust epochs and batch_size as needed\n",
        "        teacher_models.append(teacher_model)\n",
        "\n",
        "    # Generate labels for the training data using teacher models\n",
        "    def generate_labels(data):\n",
        "        labels = []\n",
        "        for model in teacher_models:\n",
        "            labels.append(np.argmax(model.predict(data), axis = 1))\n",
        "        return np.array(labels)  # Convert list of arrays to a single array\n",
        "\n",
        "    # Define your student model\n",
        "    student_model_privacy = create_student_model_privacy(input_shape, num_classes)\n",
        "\n",
        "    # Generate labels for the training data using teacher models\n",
        "    train_labels = generate_labels(X_train_fold)\n",
        "    # train_labels = train_labels.reshape((-1, num_teachers, num_classes))\n",
        "    student_y_train_fold = pd.Series(train_labels[0], index = y_train_fold.index)\n",
        "\n",
        "    # Train the student model using the labels generated by the teacher models\n",
        "    student_model_privacy.fit(X_train_fold, student_y_train_fold, epochs=num_epochs, batch_size=bs,\n",
        "                              callbacks=[early_stopping])  # Adjust epochs and batch_size as needed\n",
        "\n",
        "    # Evaluate the student model on the validation set\n",
        "    val_loss, val_accuracy = student_model.evaluate(X_val_fold, y_val_fold)\n",
        "    cv_results.append((val_loss, val_accuracy))\n",
        "\n",
        "# Fit the full model on the entire training set\n",
        "teacher_models = []\n",
        "for i in range(num_teachers):\n",
        "    teacher_model = create_teacher_model(input_shape, num_classes)\n",
        "    teacher_model.fit(X_train_lstm, y_train, epochs=num_epochs, batch_size=bs,validation_split = 0.2, callbacks=[early_stopping])  # Adjust epochs and batch_size as needed\n",
        "    teacher_models.append(teacher_model)\n",
        "\n",
        "# Generate labels for the training data using teacher models\n",
        "def generate_labels(data):\n",
        "    labels = []\n",
        "    for model in teacher_models:\n",
        "        labels.append(np.argmax(model.predict(data), axis = 1))\n",
        "    return np.array(labels)  # Convert list of arrays to a single array\n",
        "\n",
        "# Define your student model\n",
        "student_model_privacy = create_student_model_privacy(input_shape, num_classes)\n",
        "\n",
        "# Generate labels for the training data using teacher models\n",
        "train_labels = generate_labels(X_train_lstm)\n",
        "# train_labels = train_labels.reshape((-1, num_teachers, num_classes))\n",
        "student_train_labels = pd.Series(train_labels[0], index = y_train.index)\n",
        "\n",
        "# Train the student model using the labels generated by the teacher models\n",
        "model_history_privacy = student_model_privacy.fit(X_train_lstm, student_train_labels, epochs=num_epochs, batch_size=bs,validation_split = 0.2, callbacks=[early_stopping])  # Adjust epochs and batch_size as needed\n",
        "\n",
        "\n",
        "# # Predict on the test data\n",
        "X_test_array = X_test_scaled[categorical_columns].to_numpy()\n"
      ]
    },
    {
      "cell_type": "code",
      "source": [
        "# Predict on the test data\n",
        "y_test_pred_mlp_privacy = student_model_privacy.predict(X_test_reshaped)\n",
        "\n",
        "# # Apply the threshold to make binary predictions\n",
        "y_test_pred_binary_mlp_privacy = y_test_pred_mlp_privacy.argmax(axis=1)"
      ],
      "metadata": {
        "colab": {
          "base_uri": "https://localhost:8080/"
        },
        "id": "08t18N5M_K7q",
        "outputId": "16ee739e-0c35-47a8-c209-7d3bc71b3a15"
      },
      "id": "08t18N5M_K7q",
      "execution_count": null,
      "outputs": [
        {
          "output_type": "stream",
          "name": "stdout",
          "text": [
            "6435/6435 [==============================] - 9s 1ms/step\n"
          ]
        }
      ]
    },
    {
      "cell_type": "code",
      "execution_count": null,
      "id": "7RBSt1Dvhpan",
      "metadata": {
        "id": "7RBSt1Dvhpan",
        "colab": {
          "base_uri": "https://localhost:8080/"
        },
        "outputId": "1168c1f4-e8a4-446f-91a3-67121074a08d"
      },
      "outputs": [
        {
          "output_type": "stream",
          "name": "stdout",
          "text": [
            "Average cross-validation loss: 0.0011203816975466907\n",
            "Average cross-validation accuracy: 0.9999604821205139\n",
            "MLP Model:\n",
            "Accuracy =  0.9828426016307541\n",
            "Precision = 0.9830360321152098\n",
            "Recall = 0.9826602001504768\n",
            "F1 Score =  0.9828199077564952\n"
          ]
        }
      ],
      "source": [
        "# Print the average cross-validation results\n",
        "print(\"Average cross-validation loss:\", sum(cv_result[0] for cv_result in cv_results) / len(cv_results))\n",
        "print(\"Average cross-validation accuracy:\", sum(cv_result[1] for cv_result in cv_results) / len(cv_results))\n",
        "\n",
        "# Evaluate the MLP model\n",
        "accuracy_mlp_privacy = accuracy_score(y_test, y_test_pred_binary_mlp_privacy)\n",
        "precision_mlp_privacy = precision_score(y_test, y_test_pred_binary_mlp_privacy, average='macro')\n",
        "recall_mlp_privacy = recall_score(y_test, y_test_pred_binary_mlp_privacy, average='macro')\n",
        "f1_mlp_privacy = f1_score(y_test, y_test_pred_binary_mlp_privacy, average='macro')\n",
        "\n",
        "# Print the results for the MLP model\n",
        "print(\"MLP Model:\")\n",
        "print(f\"Accuracy =  {accuracy_mlp_privacy}\")\n",
        "print(f\"Precision = {precision_mlp_privacy}\")\n",
        "print(f\"Recall = {recall_mlp_privacy}\")\n",
        "print(f\"F1 Score =  {f1_mlp_privacy}\")"
      ]
    },
    {
      "cell_type": "code",
      "execution_count": null,
      "id": "AKPiUqqXfvxs",
      "metadata": {
        "colab": {
          "base_uri": "https://localhost:8080/",
          "height": 427
        },
        "id": "AKPiUqqXfvxs",
        "outputId": "666edcaa-348a-49e0-df95-b4c411b41a60"
      },
      "outputs": [
        {
          "output_type": "display_data",
          "data": {
            "text/plain": [
              "<Figure size 1200x400 with 2 Axes>"
            ],
            "image/png": "[encoded data removed]"
          },
          "metadata": {}
        }
      ],
      "source": [
        "# Plot loss curves\n",
        "plot_loss(model_history_privacy)"
      ]
    },
    {
      "cell_type": "code",
      "execution_count": null,
      "id": "6o9hxurNfvrN",
      "metadata": {
        "id": "6o9hxurNfvrN",
        "colab": {
          "base_uri": "https://localhost:8080/",
          "height": 627
        },
        "outputId": "7ab3393a-3ea1-40bf-d9c8-841b360c6435"
      },
      "outputs": [
        {
          "output_type": "display_data",
          "data": {
            "text/plain": [
              "<Figure size 800x600 with 2 Axes>"
            ],
            "image/png": "[encoded data removed]"
          },
          "metadata": {}
        }
      ],
      "source": [
        "# Confusion Matrix\n",
        "conf_matrix = confusion_matrix(y_test, y_test_pred_binary_mlp_privacy)\n",
        "\n",
        "plt.figure(figsize=(8, 6))\n",
        "plt.imshow(conf_matrix, interpolation='nearest', cmap=plt.cm.Blues)\n",
        "plt.title('Confusion Matrix')\n",
        "plt.colorbar()\n",
        "\n",
        "num_classes = conf_matrix.shape[0]\n",
        "\n",
        "# Get class labels from the LabelEncoder\n",
        "class_labels = [0, 1]\n",
        "\n",
        "plt.xticks(np.arange(num_classes), class_labels, rotation=45)\n",
        "plt.yticks(np.arange(num_classes), class_labels)\n",
        "\n",
        "thresh = conf_matrix.max() / 2.\n",
        "\n",
        "# Add text annotations\n",
        "for i in range(num_classes):\n",
        "    for j in range(num_classes):\n",
        "        plt.text(j, i, format(conf_matrix[i, j], 'd'),\n",
        "                 ha=\"center\", va=\"center\",\n",
        "                 color=\"white\" if conf_matrix[i, j] > thresh else \"black\")\n",
        "\n",
        "plt.xlabel('Predicted label')\n",
        "plt.ylabel('True label')\n",
        "plt.tight_layout()\n",
        "plt.show()"
      ]
    },
    {
      "cell_type": "code",
      "execution_count": null,
      "id": "QtRaJ-7slUOd",
      "metadata": {
        "id": "QtRaJ-7slUOd",
        "colab": {
          "base_uri": "https://localhost:8080/",
          "height": 584
        },
        "outputId": "c20fd284-e541-4349-f1be-059c118dde34"
      },
      "outputs": [
        {
          "output_type": "display_data",
          "data": {
            "text/plain": [
              "<Figure size 800x600 with 1 Axes>"
            ],
            "image/png": "[encoded data removed]"
          },
          "metadata": {}
        }
      ],
      "source": [
        "# Calculate precision and recall values for different thresholds\n",
        "precision, recall, thresholds = precision_recall_curve(y_test, y_test_pred_binary_mlp_privacy)\n",
        "\n",
        "# Plot the precision-recall curve\n",
        "plt.figure(figsize=(8, 6))\n",
        "plt.plot(recall, precision, marker='.')\n",
        "plt.xlabel('Recall')\n",
        "plt.ylabel('Precision')\n",
        "plt.title('Privacy Model Precision-Recall Curve')\n",
        "plt.grid(True)\n",
        "plt.show()"
      ]
    },
    {
      "cell_type": "code",
      "execution_count": null,
      "id": "iyCd022tlUI1",
      "metadata": {
        "id": "iyCd022tlUI1",
        "colab": {
          "base_uri": "https://localhost:8080/",
          "height": 234
        },
        "outputId": "c3c1c880-6289-4b51-a188-c4708dbd0595"
      },
      "outputs": [
        {
          "output_type": "error",
          "ename": "IndexError",
          "evalue": "too many indices for array: array is 1-dimensional, but 2 were indexed",
          "traceback": [
            "\u001b[0;31m---------------------------------------------------------------------------\u001b[0m",
            "\u001b[0;31mIndexError\u001b[0m                                Traceback (most recent call last)",
            "\u001b[0;32m<ipython-input-31-e95215a99988>\u001b[0m in \u001b[0;36m<cell line: 2>\u001b[0;34m()\u001b[0m\n\u001b[1;32m      1\u001b[0m \u001b[0;31m# Calculate precision, recall, and thresholds\u001b[0m\u001b[0;34m\u001b[0m\u001b[0;34m\u001b[0m\u001b[0m\n\u001b[0;32m----> 2\u001b[0;31m \u001b[0mprecision\u001b[0m\u001b[0;34m,\u001b[0m \u001b[0mrecall\u001b[0m\u001b[0;34m,\u001b[0m \u001b[0mthresholds\u001b[0m \u001b[0;34m=\u001b[0m \u001b[0mprecision_recall_curve\u001b[0m\u001b[0;34m(\u001b[0m\u001b[0my_test\u001b[0m\u001b[0;34m,\u001b[0m\u001b[0my_test_pred_binary_mlp_privacy\u001b[0m \u001b[0;34m[\u001b[0m\u001b[0;34m:\u001b[0m\u001b[0;34m,\u001b[0m\u001b[0;36m0\u001b[0m\u001b[0;34m]\u001b[0m\u001b[0;34m)\u001b[0m\u001b[0;34m\u001b[0m\u001b[0;34m\u001b[0m\u001b[0m\n\u001b[0m\u001b[1;32m      3\u001b[0m \u001b[0;34m\u001b[0m\u001b[0m\n\u001b[1;32m      4\u001b[0m \u001b[0;31m# Calculate the F1 score at each threshold\u001b[0m\u001b[0;34m\u001b[0m\u001b[0;34m\u001b[0m\u001b[0m\n\u001b[1;32m      5\u001b[0m \u001b[0mf1_scores\u001b[0m \u001b[0;34m=\u001b[0m \u001b[0;36m2\u001b[0m \u001b[0;34m*\u001b[0m \u001b[0;34m(\u001b[0m\u001b[0mprecision\u001b[0m \u001b[0;34m*\u001b[0m \u001b[0mrecall\u001b[0m\u001b[0;34m)\u001b[0m \u001b[0;34m/\u001b[0m \u001b[0;34m(\u001b[0m\u001b[0mprecision\u001b[0m \u001b[0;34m+\u001b[0m \u001b[0mrecall\u001b[0m\u001b[0;34m)\u001b[0m\u001b[0;34m\u001b[0m\u001b[0;34m\u001b[0m\u001b[0m\n",
            "\u001b[0;31mIndexError\u001b[0m: too many indices for array: array is 1-dimensional, but 2 were indexed"
          ]
        }
      ],
      "source": [
        "# Calculate precision, recall, and thresholds\n",
        "precision, recall, thresholds = precision_recall_curve(y_test,y_test_pred_binary_mlp_privacy [:,0])\n",
        "\n",
        "# Calculate the F1 score at each threshold\n",
        "f1_scores = 2 * (precision * recall) / (precision + recall)\n",
        "\n",
        "# Find the threshold that maximizes the F1 score\n",
        "best_threshold = thresholds[np.argmax(f1_scores)]\n",
        "\n",
        "# Plot the F1 score curve\n",
        "plt.figure(figsize=(8, 6))\n",
        "plt.plot(thresholds, f1_scores[:-1], marker='.')\n",
        "plt.xlabel('Threshold')\n",
        "plt.ylabel('F1 Score')\n",
        "plt.title('Privacy Model F1 Score vs. Threshold')\n",
        "plt.grid(True)\n",
        "plt.show()\n",
        "\n",
        "print(f\"Best Threshold for Max F1 Score: {best_threshold}\")\n"
      ]
    },
    {
      "cell_type": "code",
      "execution_count": null,
      "id": "qS9DlvT7l35L",
      "metadata": {
        "id": "qS9DlvT7l35L"
      },
      "outputs": [],
      "source": [
        "# Compute privacy budget\n",
        "privacy_report = compute_dp_sgd_privacy.compute_dp_sgd_privacy_lib.compute_dp_sgd_privacy_statement(\n",
        "    number_of_examples=len(X_train_lstm),\n",
        "    batch_size=batch_size,\n",
        "    noise_multiplier=noise_multiplier,\n",
        "    num_epochs=30,\n",
        "    delta=1e-5\n",
        ")"
      ]
    },
    {
      "cell_type": "code",
      "execution_count": null,
      "id": "pHt8x-ypmFtP",
      "metadata": {
        "id": "pHt8x-ypmFtP",
        "colab": {
          "base_uri": "https://localhost:8080/"
        },
        "outputId": "668b3788-05bb-4853-e015-3abd3fea133b"
      },
      "outputs": [
        {
          "output_type": "stream",
          "name": "stdout",
          "text": [
            "DP-SGD performed over 1544371 examples with 128 examples per iteration, noise\n",
            "multiplier 1.3 for 30 epochs with microbatching, and no bound on number of\n",
            "examples per user.\n",
            "\n",
            "This privacy guarantee protects the release of all model checkpoints in addition\n",
            "to the final model.\n",
            "\n",
            "Example-level DP with add-or-remove-one adjacency at delta = 1e-05 computed with\n",
            "RDP accounting:\n",
            "    Epsilon with each example occurring once per epoch:        74.229\n",
            "    Epsilon assuming Poisson sampling (*):                      1.495\n",
            "\n",
            "No user-level privacy guarantee is possible without a bound on the number of\n",
            "examples per user.\n",
            "\n",
            "(*) Poisson sampling is not usually done in training pipelines, but assuming\n",
            "that the data was randomly shuffled, it is believed that the actual epsilon\n",
            "should be closer to this value than the conservative assumption of an arbitrary\n",
            "data order.\n",
            "\n"
          ]
        }
      ],
      "source": [
        "print(privacy_report)"
      ]
    },
    {
      "cell_type": "markdown",
      "id": "4VdU6fxQQyYD",
      "metadata": {
        "id": "4VdU6fxQQyYD"
      },
      "source": [
        "## Combine"
      ]
    },
    {
      "cell_type": "code",
      "execution_count": null,
      "id": "c8up_TEjQ0cb",
      "metadata": {
        "id": "c8up_TEjQ0cb",
        "colab": {
          "base_uri": "https://localhost:8080/",
          "height": 194
        },
        "outputId": "b1edd841-a407-4b9c-b687-1247b7d71461"
      },
      "outputs": [
        {
          "output_type": "display_data",
          "data": {
            "text/plain": [
              "      Metric   Regular   Privacy\n",
              "0   Accuracy  0.999976  0.982843\n",
              "1  Precision  0.999975  0.983036\n",
              "2     Recall  0.999976  0.982660\n",
              "3   F1 Score  0.999976  0.982820"
            ],
            "text/html": [
              "\n",
              "  <div id=\"df-6640f04a-fb43-4413-99a9-44c0b96e07aa\" class=\"colab-df-container\">\n",
              "    <div>\n",
              "<style scoped>\n",
              "    .dataframe tbody tr th:only-of-type {\n",
              "        vertical-align: middle;\n",
              "    }\n",
              "\n",
              "    .dataframe tbody tr th {\n",
              "        vertical-align: top;\n",
              "    }\n",
              "\n",
              "    .dataframe thead th {\n",
              "        text-align: right;\n",
              "    }\n",
              "</style>\n",
              "<table border=\"1\" class=\"dataframe\">\n",
              "  <thead>\n",
              "    <tr style=\"text-align: right;\">\n",
              "      <th></th>\n",
              "      <th>Metric</th>\n",
              "      <th>Regular</th>\n",
              "      <th>Privacy</th>\n",
              "    </tr>\n",
              "  </thead>\n",
              "  <tbody>\n",
              "    <tr>\n",
              "      <th>0</th>\n",
              "      <td>Accuracy</td>\n",
              "      <td>0.999976</td>\n",
              "      <td>0.982843</td>\n",
              "    </tr>\n",
              "    <tr>\n",
              "      <th>1</th>\n",
              "      <td>Precision</td>\n",
              "      <td>0.999975</td>\n",
              "      <td>0.983036</td>\n",
              "    </tr>\n",
              "    <tr>\n",
              "      <th>2</th>\n",
              "      <td>Recall</td>\n",
              "      <td>0.999976</td>\n",
              "      <td>0.982660</td>\n",
              "    </tr>\n",
              "    <tr>\n",
              "      <th>3</th>\n",
              "      <td>F1 Score</td>\n",
              "      <td>0.999976</td>\n",
              "      <td>0.982820</td>\n",
              "    </tr>\n",
              "  </tbody>\n",
              "</table>\n",
              "</div>\n",
              "    <div class=\"colab-df-buttons\">\n",
              "\n",
              "  <div class=\"colab-df-container\">\n",
              "    <button class=\"colab-df-convert\" onclick=\"convertToInteractive('df-6640f04a-fb43-4413-99a9-44c0b96e07aa')\"\n",
              "            title=\"Convert this dataframe to an interactive table.\"\n",
              "            style=\"display:none;\">\n",
              "\n",
              "  <svg xmlns=\"http://www.w3.org/2000/svg\" height=\"24px\" viewBox=\"0 -960 960 960\">\n",
              "    <path d=\"M120-120v-720h720v720H120Zm60-500h600v-160H180v160Zm220 220h160v-160H400v160Zm0 220h160v-160H400v160ZM180-400h160v-160H180v160Zm440 0h160v-160H620v160ZM180-180h160v-160H180v160Zm440 0h160v-160H620v160Z\"/>\n",
              "  </svg>\n",
              "    </button>\n",
              "\n",
              "  <style>\n",
              "    .colab-df-container {\n",
              "      display:flex;\n",
              "      gap: 12px;\n",
              "    }\n",
              "\n",
              "    .colab-df-convert {\n",
              "      background-color: #E8F0FE;\n",
              "      border: none;\n",
              "      border-radius: 50%;\n",
              "      cursor: pointer;\n",
              "      display: none;\n",
              "      fill: #1967D2;\n",
              "      height: 32px;\n",
              "      padding: 0 0 0 0;\n",
              "      width: 32px;\n",
              "    }\n",
              "\n",
              "    .colab-df-convert:hover {\n",
              "      background-color: #E2EBFA;\n",
              "      box-shadow: 0px 1px 2px rgba(60, 64, 67, 0.3), 0px 1px 3px 1px rgba(60, 64, 67, 0.15);\n",
              "      fill: #174EA6;\n",
              "    }\n",
              "\n",
              "    .colab-df-buttons div {\n",
              "      margin-bottom: 4px;\n",
              "    }\n",
              "\n",
              "    [theme=dark] .colab-df-convert {\n",
              "      background-color: #3B4455;\n",
              "      fill: #D2E3FC;\n",
              "    }\n",
              "\n",
              "    [theme=dark] .colab-df-convert:hover {\n",
              "      background-color: #434B5C;\n",
              "      box-shadow: 0px 1px 3px 1px rgba(0, 0, 0, 0.15);\n",
              "      filter: drop-shadow(0px 1px 2px rgba(0, 0, 0, 0.3));\n",
              "      fill: #FFFFFF;\n",
              "    }\n",
              "  </style>\n",
              "\n",
              "    <script>\n",
              "      const buttonEl =\n",
              "        document.querySelector('#df-6640f04a-fb43-4413-99a9-44c0b96e07aa button.colab-df-convert');\n",
              "      buttonEl.style.display =\n",
              "        google.colab.kernel.accessAllowed ? 'block' : 'none';\n",
              "\n",
              "      async function convertToInteractive(key) {\n",
              "        const element = document.querySelector('#df-6640f04a-fb43-4413-99a9-44c0b96e07aa');\n",
              "        const dataTable =\n",
              "          await google.colab.kernel.invokeFunction('convertToInteractive',\n",
              "                                                    [key], {});\n",
              "        if (!dataTable) return;\n",
              "\n",
              "        const docLinkHtml = 'Like what you see? Visit the ' +\n",
              "          '<a target=\"_blank\" href=https://colab.research.google.com/notebooks/data_table.ipynb>data table notebook</a>'\n",
              "          + ' to learn more about interactive tables.';\n",
              "        element.innerHTML = '';\n",
              "        dataTable['output_type'] = 'display_data';\n",
              "        await google.colab.output.renderOutput(dataTable, element);\n",
              "        const docLink = document.createElement('div');\n",
              "        docLink.innerHTML = docLinkHtml;\n",
              "        element.appendChild(docLink);\n",
              "      }\n",
              "    </script>\n",
              "  </div>\n",
              "\n",
              "\n",
              "<div id=\"df-acf6a590-6ea2-44f9-9892-a35c55e6af17\">\n",
              "  <button class=\"colab-df-quickchart\" onclick=\"quickchart('df-acf6a590-6ea2-44f9-9892-a35c55e6af17')\"\n",
              "            title=\"Suggest charts\"\n",
              "            style=\"display:none;\">\n",
              "\n",
              "<svg xmlns=\"http://www.w3.org/2000/svg\" height=\"24px\"viewBox=\"0 0 24 24\"\n",
              "     width=\"24px\">\n",
              "    <g>\n",
              "        <path d=\"M19 3H5c-1.1 0-2 .9-2 2v14c0 1.1.9 2 2 2h14c1.1 0 2-.9 2-2V5c0-1.1-.9-2-2-2zM9 17H7v-7h2v7zm4 0h-2V7h2v10zm4 0h-2v-4h2v4z\"/>\n",
              "    </g>\n",
              "</svg>\n",
              "  </button>\n",
              "\n",
              "<style>\n",
              "  .colab-df-quickchart {\n",
              "      --bg-color: #E8F0FE;\n",
              "      --fill-color: #1967D2;\n",
              "      --hover-bg-color: #E2EBFA;\n",
              "      --hover-fill-color: #174EA6;\n",
              "      --disabled-fill-color: #AAA;\n",
              "      --disabled-bg-color: #DDD;\n",
              "  }\n",
              "\n",
              "  [theme=dark] .colab-df-quickchart {\n",
              "      --bg-color: #3B4455;\n",
              "      --fill-color: #D2E3FC;\n",
              "      --hover-bg-color: #434B5C;\n",
              "      --hover-fill-color: #FFFFFF;\n",
              "      --disabled-bg-color: #3B4455;\n",
              "      --disabled-fill-color: #666;\n",
              "  }\n",
              "\n",
              "  .colab-df-quickchart {\n",
              "    background-color: var(--bg-color);\n",
              "    border: none;\n",
              "    border-radius: 50%;\n",
              "    cursor: pointer;\n",
              "    display: none;\n",
              "    fill: var(--fill-color);\n",
              "    height: 32px;\n",
              "    padding: 0;\n",
              "    width: 32px;\n",
              "  }\n",
              "\n",
              "  .colab-df-quickchart:hover {\n",
              "    background-color: var(--hover-bg-color);\n",
              "    box-shadow: 0 1px 2px rgba(60, 64, 67, 0.3), 0 1px 3px 1px rgba(60, 64, 67, 0.15);\n",
              "    fill: var(--button-hover-fill-color);\n",
              "  }\n",
              "\n",
              "  .colab-df-quickchart-complete:disabled,\n",
              "  .colab-df-quickchart-complete:disabled:hover {\n",
              "    background-color: var(--disabled-bg-color);\n",
              "    fill: var(--disabled-fill-color);\n",
              "    box-shadow: none;\n",
              "  }\n",
              "\n",
              "  .colab-df-spinner {\n",
              "    border: 2px solid var(--fill-color);\n",
              "    border-color: transparent;\n",
              "    border-bottom-color: var(--fill-color);\n",
              "    animation:\n",
              "      spin 1s steps(1) infinite;\n",
              "  }\n",
              "\n",
              "  @keyframes spin {\n",
              "    0% {\n",
              "      border-color: transparent;\n",
              "      border-bottom-color: var(--fill-color);\n",
              "      border-left-color: var(--fill-color);\n",
              "    }\n",
              "    20% {\n",
              "      border-color: transparent;\n",
              "      border-left-color: var(--fill-color);\n",
              "      border-top-color: var(--fill-color);\n",
              "    }\n",
              "    30% {\n",
              "      border-color: transparent;\n",
              "      border-left-color: var(--fill-color);\n",
              "      border-top-color: var(--fill-color);\n",
              "      border-right-color: var(--fill-color);\n",
              "    }\n",
              "    40% {\n",
              "      border-color: transparent;\n",
              "      border-right-color: var(--fill-color);\n",
              "      border-top-color: var(--fill-color);\n",
              "    }\n",
              "    60% {\n",
              "      border-color: transparent;\n",
              "      border-right-color: var(--fill-color);\n",
              "    }\n",
              "    80% {\n",
              "      border-color: transparent;\n",
              "      border-right-color: var(--fill-color);\n",
              "      border-bottom-color: var(--fill-color);\n",
              "    }\n",
              "    90% {\n",
              "      border-color: transparent;\n",
              "      border-bottom-color: var(--fill-color);\n",
              "    }\n",
              "  }\n",
              "</style>\n",
              "\n",
              "  <script>\n",
              "    async function quickchart(key) {\n",
              "      const quickchartButtonEl =\n",
              "        document.querySelector('#' + key + ' button');\n",
              "      quickchartButtonEl.disabled = true;  // To prevent multiple clicks.\n",
              "      quickchartButtonEl.classList.add('colab-df-spinner');\n",
              "      try {\n",
              "        const charts = await google.colab.kernel.invokeFunction(\n",
              "            'suggestCharts', [key], {});\n",
              "      } catch (error) {\n",
              "        console.error('Error during call to suggestCharts:', error);\n",
              "      }\n",
              "      quickchartButtonEl.classList.remove('colab-df-spinner');\n",
              "      quickchartButtonEl.classList.add('colab-df-quickchart-complete');\n",
              "    }\n",
              "    (() => {\n",
              "      let quickchartButtonEl =\n",
              "        document.querySelector('#df-acf6a590-6ea2-44f9-9892-a35c55e6af17 button');\n",
              "      quickchartButtonEl.style.display =\n",
              "        google.colab.kernel.accessAllowed ? 'block' : 'none';\n",
              "    })();\n",
              "  </script>\n",
              "</div>\n",
              "\n",
              "  <div id=\"id_bbd7ba92-90f2-4769-a851-4c1639fec76f\">\n",
              "    <style>\n",
              "      .colab-df-generate {\n",
              "        background-color: #E8F0FE;\n",
              "        border: none;\n",
              "        border-radius: 50%;\n",
              "        cursor: pointer;\n",
              "        display: none;\n",
              "        fill: #1967D2;\n",
              "        height: 32px;\n",
              "        padding: 0 0 0 0;\n",
              "        width: 32px;\n",
              "      }\n",
              "\n",
              "      .colab-df-generate:hover {\n",
              "        background-color: #E2EBFA;\n",
              "        box-shadow: 0px 1px 2px rgba(60, 64, 67, 0.3), 0px 1px 3px 1px rgba(60, 64, 67, 0.15);\n",
              "        fill: #174EA6;\n",
              "      }\n",
              "\n",
              "      [theme=dark] .colab-df-generate {\n",
              "        background-color: #3B4455;\n",
              "        fill: #D2E3FC;\n",
              "      }\n",
              "\n",
              "      [theme=dark] .colab-df-generate:hover {\n",
              "        background-color: #434B5C;\n",
              "        box-shadow: 0px 1px 3px 1px rgba(0, 0, 0, 0.15);\n",
              "        filter: drop-shadow(0px 1px 2px rgba(0, 0, 0, 0.3));\n",
              "        fill: #FFFFFF;\n",
              "      }\n",
              "    </style>\n",
              "    <button class=\"colab-df-generate\" onclick=\"generateWithVariable('df')\"\n",
              "            title=\"Generate code using this dataframe.\"\n",
              "            style=\"display:none;\">\n",
              "\n",
              "  <svg xmlns=\"http://www.w3.org/2000/svg\" height=\"24px\"viewBox=\"0 0 24 24\"\n",
              "       width=\"24px\">\n",
              "    <path d=\"M7,19H8.4L18.45,9,17,7.55,7,17.6ZM5,21V16.75L18.45,3.32a2,2,0,0,1,2.83,0l1.4,1.43a1.91,1.91,0,0,1,.58,1.4,1.91,1.91,0,0,1-.58,1.4L9.25,21ZM18.45,9,17,7.55Zm-12,3A5.31,5.31,0,0,0,4.9,8.1,5.31,5.31,0,0,0,1,6.5,5.31,5.31,0,0,0,4.9,4.9,5.31,5.31,0,0,0,6.5,1,5.31,5.31,0,0,0,8.1,4.9,5.31,5.31,0,0,0,12,6.5,5.46,5.46,0,0,0,6.5,12Z\"/>\n",
              "  </svg>\n",
              "    </button>\n",
              "    <script>\n",
              "      (() => {\n",
              "      const buttonEl =\n",
              "        document.querySelector('#id_bbd7ba92-90f2-4769-a851-4c1639fec76f button.colab-df-generate');\n",
              "      buttonEl.style.display =\n",
              "        google.colab.kernel.accessAllowed ? 'block' : 'none';\n",
              "\n",
              "      buttonEl.onclick = () => {\n",
              "        google.colab.notebook.generateWithVariable('df');\n",
              "      }\n",
              "      })();\n",
              "    </script>\n",
              "  </div>\n",
              "\n",
              "    </div>\n",
              "  </div>\n"
            ],
            "application/vnd.google.colaboratory.intrinsic+json": {
              "type": "dataframe",
              "variable_name": "df",
              "summary": "{\n  \"name\": \"df\",\n  \"rows\": 4,\n  \"fields\": [\n    {\n      \"column\": \"Metric\",\n      \"properties\": {\n        \"dtype\": \"string\",\n        \"num_unique_values\": 4,\n        \"samples\": [\n          \"Precision\",\n          \"F1 Score\",\n          \"Accuracy\"\n        ],\n        \"semantic_type\": \"\",\n        \"description\": \"\"\n      }\n    },\n    {\n      \"column\": \"Regular\",\n      \"properties\": {\n        \"dtype\": \"number\",\n        \"std\": 6.14746072916026e-07,\n        \"min\": 0.9999749428697431,\n        \"max\": 0.9999764484220443,\n        \"num_unique_values\": 4,\n        \"samples\": [\n          0.9999749428697431,\n          0.999975695054611,\n          0.9999757183719654\n        ],\n        \"semantic_type\": \"\",\n        \"description\": \"\"\n      }\n    },\n    {\n      \"column\": \"Privacy\",\n      \"properties\": {\n        \"dtype\": \"number\",\n        \"std\": 0.00015402017936459072,\n        \"min\": 0.9826602001504768,\n        \"max\": 0.9830360321152098,\n        \"num_unique_values\": 4,\n        \"samples\": [\n          0.9830360321152098,\n          0.9828199077564952,\n          0.9828426016307541\n        ],\n        \"semantic_type\": \"\",\n        \"description\": \"\"\n      }\n    }\n  ]\n}"
            }
          },
          "metadata": {}
        }
      ],
      "source": [
        "# Create DataFrame\n",
        "data = {\n",
        "    'Metric': ['Accuracy', 'Precision', 'Recall', 'F1 Score'],\n",
        "    'Regular': [accuracy_mlp, precision_mlp, recall_mlp, f1_mlp],\n",
        "    'Privacy': [accuracy_mlp_privacy, precision_mlp_privacy, recall_mlp_privacy, f1_mlp_privacy]\n",
        "}\n",
        "\n",
        "df = pd.DataFrame(data)\n",
        "\n",
        "# Print DataFrame\n",
        "display(df)"
      ]
    },
    {
      "cell_type": "code",
      "execution_count": null,
      "id": "dgRYtQ91Q0Zz",
      "metadata": {
        "id": "dgRYtQ91Q0Zz",
        "colab": {
          "base_uri": "https://localhost:8080/",
          "height": 427
        },
        "outputId": "9c592385-c496-40ba-ba17-ce2231df47ac"
      },
      "outputs": [
        {
          "output_type": "display_data",
          "data": {
            "text/plain": [
              "<Figure size 1200x400 with 2 Axes>"
            ],
            "image/png": "[encoded data removed]"
          },
          "metadata": {}
        }
      ],
      "source": [
        "plot_loss(model_history, model_history_privacy)"
      ]
    },
    {
      "cell_type": "markdown",
      "id": "SE85nMD9KFlP",
      "metadata": {
        "id": "SE85nMD9KFlP"
      },
      "source": [
        "## Old Code"
      ]
    },
    {
      "cell_type": "code",
      "execution_count": null,
      "id": "323110f0",
      "metadata": {
        "id": "323110f0"
      },
      "outputs": [],
      "source": [
        "# Separate majority and minority classes\n",
        "# majority_class = data[data['is_attack'] == 0]\n",
        "# minority_class = data[data['is_attack'] == 1]\n",
        "\n",
        "# # Upsample minority class to match majority class\n",
        "# minority_upsampled = resample(minority_class, replace=True, n_samples=len(majority_class), random_state=42)"
      ]
    },
    {
      "cell_type": "code",
      "execution_count": null,
      "id": "e5f04d47",
      "metadata": {
        "id": "e5f04d47"
      },
      "outputs": [],
      "source": [
        "\n",
        "# # Combine majority class with upsampled minority class\n",
        "# data_balanced = pd.concat([majority_class, minority_upsampled])\n",
        "\n",
        "# # Extract features and target from the balanced data\n",
        "# target_column = 'is_attack'\n",
        "# categorical_columns = [col for col in data.columns if col != target_column]\n",
        "# X_balanced = data_balanced.drop(target_column, axis=1)\n",
        "# y_balanced = data_balanced[target_column]"
      ]
    },
    {
      "cell_type": "code",
      "execution_count": null,
      "id": "0399fcc5",
      "metadata": {
        "id": "0399fcc5"
      },
      "outputs": [],
      "source": [
        "# Split the balanced data into training, validation, and test sets\n",
        "# X_train_balanced, X_temp_balanced, y_train_balanced, y_temp_balanced = train_test_split(\n",
        "#     X_balanced, y_balanced, test_size=0.4, random_state=42, stratify=y_balanced\n",
        "# )\n",
        "# X_valid_balanced, X_test_balanced, y_valid_balanced, y_test_balanced = train_test_split(\n",
        "#     X_temp_balanced, y_temp_balanced, test_size=0.4, random_state=42, stratify=y_temp_balanced\n",
        "# )\n"
      ]
    },
    {
      "cell_type": "code",
      "execution_count": null,
      "id": "5fcd443b",
      "metadata": {
        "id": "5fcd443b"
      },
      "outputs": [],
      "source": [
        "# Standard Scaling\n",
        "# scaler = StandardScaler()\n",
        "# X_train_scaled = X_train_balanced.copy()\n",
        "# X_train_scaled[categorical_columns] = scaler.fit_transform(X_train_balanced[categorical_columns])\n",
        "# X_valid_scaled = X_valid_balanced.copy()\n",
        "# X_valid_scaled[categorical_columns] = scaler.transform(X_valid_balanced[categorical_columns])\n",
        "# X_test_scaled = X_test_balanced.copy()\n",
        "# X_test_scaled[categorical_columns] = scaler.transform(X_test_balanced[categorical_columns])"
      ]
    },
    {
      "cell_type": "code",
      "execution_count": null,
      "id": "6fd81858",
      "metadata": {
        "id": "6fd81858"
      },
      "outputs": [],
      "source": [
        "# Reshape data for LSTM\n",
        "# X_train_numpy = X_train_scaled[categorical_columns].to_numpy()\n",
        "# X_train_lstm = X_train_numpy.reshape(X_train_numpy.shape[0], 1, X_train_numpy.shape[1])\n",
        "# X_valid_array = X_valid_scaled[categorical_columns].to_numpy()\n",
        "# X_valid_reshaped = X_valid_array.reshape(X_valid_array.shape[0], 1, X_valid_array.shape[1])\n",
        "# X_test_array = X_test_scaled[categorical_columns].to_numpy()\n",
        "# X_test_reshaped = X_test_array.reshape(X_test_array.shape[0], 1, X_test_array.shape[1])\n",
        "\n",
        "# # Define your privacy parameters where delta is representing change in a parameter during each iteration optimization\n",
        "# epsilon = 0.0000001\n",
        "# delta = 1e-8"
      ]
    },
    {
      "cell_type": "code",
      "execution_count": null,
      "id": "fda167d5",
      "metadata": {
        "id": "fda167d5"
      },
      "outputs": [],
      "source": [
        "# Create your LSTM model\n",
        "# model = Sequential()\n",
        "# model.add(LSTM(8, input_shape=(1, len(categorical_columns))))  # Reduce the number of LSTM units\n",
        "# model.add(Dense(1, activation='sigmoid'))\n",
        "\n",
        "# # Compile the model with the SGD optimizer\n",
        "# learning_rate = 0.001\n",
        "# sgd_optimizer = SGD(learning_rate=learning_rate)\n",
        "# model.compile(optimizer=sgd_optimizer, loss='binary_crossentropy', metrics=['accuracy'])\n",
        "\n",
        "# epochs = 2\n",
        "# batch_size = 256\n",
        "# noise_scale_factor = 1.3  # Increase the scale of the noise\n",
        "\n",
        "# for epoch in range(epochs):\n",
        "#     for batch in range(0, len(X_train_lstm), batch_size):\n",
        "#         X_batch = X_train_lstm[batch:batch+batch_size]\n",
        "#         y_batch = y_train_balanced[batch:batch+batch_size]\n",
        "\n",
        "#         y_batch = tf.convert_to_tensor(y_batch, dtype=tf.float32)\n",
        "#         y_batch = tf.reshape(y_batch, (-1, 1))\n",
        "\n",
        "#         with tf.GradientTape() as tape:\n",
        "#             y_pred = model(X_batch, training=True)\n",
        "#             loss = tf.keras.losses.binary_crossentropy(y_batch, y_pred)\n",
        "\n",
        "#         gradients = tape.gradient(loss, model.trainable_variables)\n",
        "\n",
        "#         for i in range(len(gradients)):\n",
        "#             noise = np.random.normal(loc=0.0, scale=noise_scale_factor * epsilon)\n",
        "#             gradients[i] += noise\n",
        "\n",
        "#         sgd_optimizer.apply_gradients(zip(gradients, model.trainable_variables))\n",
        "\n",
        "# # Evaluate the model on the entire test set\n",
        "# X_test_reshaped = X_test_scaled[categorical_columns].to_numpy().reshape(X_test_scaled.shape[0], 1, X_test_scaled.shape[1])\n",
        "# y_test_pred = model.predict(X_test_reshaped)\n",
        "\n",
        "# # Apply the threshold to make binary predictions\n",
        "# threshold = 0.3\n",
        "# y_test_pred_binary = (y_test_pred > threshold).astype(int)"
      ]
    },
    {
      "cell_type": "code",
      "execution_count": null,
      "id": "f7957b28",
      "metadata": {
        "id": "f7957b28"
      },
      "outputs": [],
      "source": [
        "# # Evaluation metrics\n",
        "# accuracy = accuracy_score(y_test_balanced, y_test_pred_binary)\n",
        "# precision = precision_score(y_test_balanced, y_test_pred_binary)\n",
        "# recall = recall_score(y_test_balanced, y_test_pred_binary)\n",
        "# f1 = f1_score(y_test_balanced, y_test_pred_binary)\n",
        "\n",
        "# # Print the results\n",
        "# print(f\"Accuracy =  {accuracy * 100}\")\n",
        "# print(f\"Precision = {precision * 100}\")\n",
        "# print(f\"Recall = {recall * 100}\")\n",
        "# print(f\"F1 Score =  {f1 * 100}\")"
      ]
    },
    {
      "cell_type": "markdown",
      "id": "9c5af511",
      "metadata": {
        "id": "9c5af511"
      },
      "source": [
        "**Confusion Matrix**"
      ]
    },
    {
      "cell_type": "code",
      "execution_count": null,
      "id": "2eeeb0f3",
      "metadata": {
        "id": "2eeeb0f3",
        "scrolled": true
      },
      "outputs": [],
      "source": [
        "# # Plot confusion matrix\n",
        "# plt.figure(figsize=(8, 6))\n",
        "# sns.heatmap(conf_matrix, annot=True, fmt='d', cmap='Blues', cbar=False)\n",
        "# plt.xlabel('Predicted Labels')\n",
        "# plt.ylabel('True Labels')\n",
        "# plt.title('Confusion Matrix')\n",
        "# plt.show()"
      ]
    },
    {
      "cell_type": "markdown",
      "id": "c14be87d",
      "metadata": {
        "id": "c14be87d"
      },
      "source": [
        "**precision recall curve.**"
      ]
    },
    {
      "cell_type": "code",
      "execution_count": null,
      "id": "56d4d16c",
      "metadata": {
        "id": "56d4d16c"
      },
      "outputs": [],
      "source": [
        "# # Apply the threshold to make binary predictions\n",
        "# threshold = 0.6\n",
        "# y_test_pred_binary = (y_test_pred > threshold).astype(int)\n",
        "\n",
        "# # Get precision and recall values\n",
        "# precision, recall, _ = precision_recall_curve(y_test_balanced, y_test_pred_binary)\n",
        "\n",
        "# # Calculate area under the precision-recall curve\n",
        "# auc_score = auc(recall, precision)\n",
        "\n",
        "# # Plot precision-recall curve\n",
        "# plt.figure(figsize=(8, 6))\n",
        "# plt.plot(recall, precision, label=f'AUC = {auc_score:.2f}')\n",
        "# plt.xlabel('Recall')\n",
        "# plt.ylabel('Precision')\n",
        "# plt.title('Precision-Recall Curve')\n",
        "# plt.legend()\n",
        "# plt.show()\n"
      ]
    },
    {
      "cell_type": "code",
      "execution_count": null,
      "id": "9e304a22",
      "metadata": {
        "id": "9e304a22"
      },
      "outputs": [],
      "source": [
        "# # Assuming you have some data for privacy budgets and noise metrics\n",
        "# privacy_budgets = [0.1, 0.01, 0.001, 0.0001]\n",
        "# noise_metrics = [10, 5, 2, 1]\n",
        "\n",
        "# # Plot privacy budget vs noise metric\n",
        "# plt.figure(figsize=(8, 6))\n",
        "# plt.plot(privacy_budgets, noise_metrics, marker='o')\n",
        "# plt.xscale('log')  # Use a logarithmic scale for better visualization\n",
        "# plt.xlabel('Privacy Budget (Epsilon)')\n",
        "# plt.ylabel('Noise Metric')\n",
        "# plt.title('Privacy Budget vs Noise Metric')\n",
        "# plt.grid(True)\n",
        "# plt.show()\n"
      ]
    },
    {
      "cell_type": "code",
      "execution_count": null,
      "id": "90a92767",
      "metadata": {
        "id": "90a92767"
      },
      "outputs": [],
      "source": [
        "# # Plot privacy budget vs noise metric\n",
        "# plt.figure(figsize=(8, 6))\n",
        "# plt.plot(privacy_budgets, noise_metrics, marker='o')\n",
        "# plt.xscale('log')  # Use a logarithmic scale for better visualization\n",
        "# plt.xlabel('Privacy Budget (Epsilon)')\n",
        "# plt.ylabel('Noise Metric')\n",
        "# plt.title('Privacy Budget vs Noise Metric')\n",
        "# plt.show()\n"
      ]
    },
    {
      "cell_type": "code",
      "execution_count": null,
      "id": "969b8048",
      "metadata": {
        "id": "969b8048"
      },
      "outputs": [],
      "source": [
        "\n",
        "# privacy_budget_values = []\n",
        "# momentum_values = []\n",
        "\n",
        "# # Training loop with privacy budget and momentum tracking\n",
        "# for epoch in range(epochs):\n",
        "#     for batch in range(0, len(X_train_lstm), batch_size):\n",
        "#         # ... (code for batching and training)\n",
        "\n",
        "#         # Calculate privacy budget and momentum values and append to lists\n",
        "#         privacy_budget_values.append(epsilon * (epoch * len(X_train_lstm) + batch_size) + delta)\n",
        "#         momentum_values.append(learning_rate)\n",
        "\n",
        "# ... (Rest of the code)\n",
        "\n",
        "# # Plot privacy budget and momentum\n",
        "# plt.figure(figsize=(12, 6))\n",
        "\n",
        "# # Privacy Budget Plot\n",
        "# plt.subplot(1, 2, 1)\n",
        "# plt.plot(privacy_budget_values, label='Privacy Budget')\n",
        "# plt.xlabel('Training Iterations')\n",
        "# plt.ylabel('Privacy Budget')\n",
        "# plt.title('Privacy Budget Over Training')\n",
        "# plt.legend()\n",
        "\n"
      ]
    },
    {
      "cell_type": "markdown",
      "id": "HcEfro54tu_x",
      "metadata": {
        "id": "HcEfro54tu_x"
      },
      "source": [
        "<!--  -->"
      ]
    },
    {
      "cell_type": "markdown",
      "id": "JKHu3o_Str0L",
      "metadata": {
        "id": "JKHu3o_Str0L"
      },
      "source": [
        "<!--  -->"
      ]
    },
    {
      "cell_type": "code",
      "execution_count": null,
      "id": "c92877f8",
      "metadata": {
        "id": "c92877f8"
      },
      "outputs": [],
      "source": [
        "# Momentum Plot\n",
        "# plt.subplot(1, 2, 2)\n",
        "# plt.plot(momentum_values, label='Momentum')\n",
        "# plt.xlabel('Training Iterations')\n",
        "# plt.ylabel('Momentum')\n",
        "# plt.title('Momentum Over Training')\n",
        "# plt.legend()\n",
        "\n",
        "# plt.tight_layout()\n",
        "# plt.show()"
      ]
    },
    {
      "cell_type": "code",
      "execution_count": null,
      "id": "28c76bca",
      "metadata": {
        "id": "28c76bca"
      },
      "outputs": [],
      "source": [
        "\n",
        "\n",
        "# # Initialize lists to store convergence behavior and training time\n",
        "# training_loss_values = []\n",
        "# training_time_values = []\n",
        "\n",
        "# # Training loop with tracking convergence behavior and training time\n",
        "# for epoch in range(epochs):\n",
        "#     start_time = time.time()  # Record start time for training time calculation\n",
        "#     for batch in range(0, len(X_train_lstm), batch_size):\n",
        "#         # ... (code for batching and training)\n",
        "\n",
        "#         # Calculate training loss for the current batch and append to the list\n",
        "#         training_loss = model.evaluate(X_batch, y_batch, verbose=0)[0]\n",
        "#         training_loss_values.append(training_loss)\n",
        "\n",
        "#     end_time = time.time()  # Record end time for training time calculation\n",
        "#     training_time_values.append(end_time - start_time)\n",
        "\n",
        "# # Plot convergence behavior and training time\n",
        "# plt.figure(figsize=(12, 6))"
      ]
    },
    {
      "cell_type": "markdown",
      "id": "nLhDYieKtl8e",
      "metadata": {
        "id": "nLhDYieKtl8e"
      },
      "source": [
        "<!--  -->"
      ]
    },
    {
      "cell_type": "code",
      "execution_count": null,
      "id": "efd17318",
      "metadata": {
        "id": "efd17318"
      },
      "outputs": [],
      "source": [
        "# # Convergence Behavior Plot\n",
        "# plt.subplot(1, 2, 1)\n",
        "# plt.plot(training_loss_values, label='Training Loss')\n",
        "# plt.xlabel('Training Iterations')\n",
        "# plt.ylabel('Training Loss')\n",
        "# plt.title('Convergence Behavior Over Training')\n",
        "# plt.legend()"
      ]
    },
    {
      "cell_type": "code",
      "execution_count": null,
      "id": "4ae31edb",
      "metadata": {
        "id": "4ae31edb"
      },
      "outputs": [],
      "source": [
        "# # Training Time Plot# too few epoch equal underfitting too many epoch overfitting may occur# recommended epoch is 3x number of columns\n",
        "# plt.subplot(1, 2, 2)\n",
        "# plt.plot(training_time_values, label='Training Time')\n",
        "# plt.xlabel('Epochs')\n",
        "# plt.ylabel('Training Time (seconds)')\n",
        "# plt.title('Training Time Over Epochs')\n",
        "# plt.legend()\n",
        "\n",
        "# plt.tight_layout()\n",
        "# plt.show()"
      ]
    },
    {
      "cell_type": "markdown",
      "id": "8IDhyfwTtfTa",
      "metadata": {
        "id": "8IDhyfwTtfTa"
      },
      "source": []
    },
    {
      "cell_type": "code",
      "execution_count": null,
      "id": "8e13828e",
      "metadata": {
        "id": "8e13828e"
      },
      "outputs": [],
      "source": [
        "# from tensorflow.keras.utils import plot_model\n",
        "# # Plot the model graph and save it as an image\n",
        "# plot_model(model, to_file='model_graph.png', show_shapes=True, show_layer_names=True)"
      ]
    },
    {
      "cell_type": "code",
      "execution_count": null,
      "id": "49fcd777",
      "metadata": {
        "id": "49fcd777"
      },
      "outputs": [],
      "source": []
    }
  ],
  "metadata": {
    "accelerator": "GPU",
    "colab": {
      "gpuType": "T4",
      "machine_shape": "hm",
      "toc_visible": true,
      "provenance": []
    },
    "kernelspec": {
      "display_name": "Python 3",
      "name": "python3"
    },
    "language_info": {
      "codemirror_mode": {
        "name": "ipython",
        "version": 3
      },
      "file_extension": ".py",
      "mimetype": "text/x-python",
      "name": "python",
      "nbconvert_exporter": "python",
      "pygments_lexer": "ipython3",
      "version": "3.8.8"
    }
  },
  "nbformat": 4,
  "nbformat_minor": 5
}